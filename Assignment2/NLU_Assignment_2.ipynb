{
  "nbformat": 4,
  "nbformat_minor": 0,
  "metadata": {
    "colab": {
      "provenance": []
    },
    "kernelspec": {
      "name": "python3",
      "display_name": "Python 3"
    },
    "language_info": {
      "name": "python"
    }
  },
  "cells": [
    {
      "cell_type": "code",
      "execution_count": 18,
      "metadata": {
        "colab": {
          "base_uri": "https://localhost:8080/"
        },
        "id": "Vl6VLn3RRqrO",
        "outputId": "50aaab69-31b9-4d7b-d9ff-e6414cdb81bd"
      },
      "outputs": [
        {
          "output_type": "stream",
          "name": "stdout",
          "text": [
            "Looking in indexes: https://pypi.org/simple, https://us-python.pkg.dev/colab-wheels/public/simple/\n",
            "Requirement already satisfied: transformers in /usr/local/lib/python3.9/dist-packages (4.28.1)\n",
            "Requirement already satisfied: torch in /usr/local/lib/python3.9/dist-packages (2.0.0+cu118)\n",
            "Collecting sklearn\n",
            "  Downloading sklearn-0.0.post4.tar.gz (3.6 kB)\n",
            "  Preparing metadata (setup.py) ... \u001b[?25l\u001b[?25hdone\n",
            "Requirement already satisfied: filelock in /usr/local/lib/python3.9/dist-packages (from transformers) (3.11.0)\n",
            "Requirement already satisfied: numpy>=1.17 in /usr/local/lib/python3.9/dist-packages (from transformers) (1.22.4)\n",
            "Requirement already satisfied: pyyaml>=5.1 in /usr/local/lib/python3.9/dist-packages (from transformers) (6.0)\n",
            "Requirement already satisfied: requests in /usr/local/lib/python3.9/dist-packages (from transformers) (2.27.1)\n",
            "Requirement already satisfied: regex!=2019.12.17 in /usr/local/lib/python3.9/dist-packages (from transformers) (2022.10.31)\n",
            "Requirement already satisfied: tokenizers!=0.11.3,<0.14,>=0.11.1 in /usr/local/lib/python3.9/dist-packages (from transformers) (0.13.3)\n",
            "Requirement already satisfied: packaging>=20.0 in /usr/local/lib/python3.9/dist-packages (from transformers) (23.1)\n",
            "Requirement already satisfied: tqdm>=4.27 in /usr/local/lib/python3.9/dist-packages (from transformers) (4.65.0)\n",
            "Requirement already satisfied: huggingface-hub<1.0,>=0.11.0 in /usr/local/lib/python3.9/dist-packages (from transformers) (0.13.4)\n",
            "Requirement already satisfied: typing-extensions in /usr/local/lib/python3.9/dist-packages (from torch) (4.5.0)\n",
            "Requirement already satisfied: jinja2 in /usr/local/lib/python3.9/dist-packages (from torch) (3.1.2)\n",
            "Requirement already satisfied: sympy in /usr/local/lib/python3.9/dist-packages (from torch) (1.11.1)\n",
            "Requirement already satisfied: triton==2.0.0 in /usr/local/lib/python3.9/dist-packages (from torch) (2.0.0)\n",
            "Requirement already satisfied: networkx in /usr/local/lib/python3.9/dist-packages (from torch) (3.1)\n",
            "Requirement already satisfied: lit in /usr/local/lib/python3.9/dist-packages (from triton==2.0.0->torch) (16.0.1)\n",
            "Requirement already satisfied: cmake in /usr/local/lib/python3.9/dist-packages (from triton==2.0.0->torch) (3.25.2)\n",
            "Requirement already satisfied: MarkupSafe>=2.0 in /usr/local/lib/python3.9/dist-packages (from jinja2->torch) (2.1.2)\n",
            "Requirement already satisfied: urllib3<1.27,>=1.21.1 in /usr/local/lib/python3.9/dist-packages (from requests->transformers) (1.26.15)\n",
            "Requirement already satisfied: certifi>=2017.4.17 in /usr/local/lib/python3.9/dist-packages (from requests->transformers) (2022.12.7)\n",
            "Requirement already satisfied: charset-normalizer~=2.0.0 in /usr/local/lib/python3.9/dist-packages (from requests->transformers) (2.0.12)\n",
            "Requirement already satisfied: idna<4,>=2.5 in /usr/local/lib/python3.9/dist-packages (from requests->transformers) (3.4)\n",
            "Requirement already satisfied: mpmath>=0.19 in /usr/local/lib/python3.9/dist-packages (from sympy->torch) (1.3.0)\n",
            "Building wheels for collected packages: sklearn\n",
            "  Building wheel for sklearn (setup.py) ... \u001b[?25l\u001b[?25hdone\n",
            "  Created wheel for sklearn: filename=sklearn-0.0.post4-py3-none-any.whl size=2973 sha256=e0bb1244238a0fe03cb367ecfc25a89fa3df893a8a52fdbc6b6742a81b17a19c\n",
            "  Stored in directory: /root/.cache/pip/wheels/d5/b2/a9/590d15767d34955f20a9a033e8db973b79cb5672d95790c0a9\n",
            "Successfully built sklearn\n",
            "Installing collected packages: sklearn\n",
            "Successfully installed sklearn-0.0.post4\n"
          ]
        }
      ],
      "source": [
        "!pip install transformers torch sklearn\n"
      ]
    },
    {
      "cell_type": "code",
      "source": [
        "import json\n",
        "import numpy as np\n",
        "from sklearn.feature_extraction.text import CountVectorizer\n",
        "from sklearn.model_selection import train_test_split\n",
        "from sklearn.svm import SVC\n",
        "from sklearn.metrics import classification_report\n",
        "from sklearn.ensemble import RandomForestClassifier\n",
        "\n",
        "data = []\n",
        "with open('train.json', 'r') as file:\n",
        "    for line in file:\n",
        "        data.append(json.loads(line))\n",
        "\n",
        "# Preprocess the data\n",
        "subjects, objects, relations = [], [], []\n",
        "for item in data:\n",
        "    for fact in item[\"passages\"][0][\"facts\"]:\n",
        "        subjects.append(fact[\"subjectText\"])\n",
        "        objects.append(fact[\"objectText\"])\n",
        "        relations.append(fact[\"propertyId\"])\n",
        "print(subjects[10])\n",
        "print(objects[10])\n",
        "\n",
        "\n",
        "# Vectorize using Bag of Words\n",
        "vectorizer = CountVectorizer()\n",
        "subject_vectors = vectorizer.fit_transform(subjects)\n",
        "object_vectors = vectorizer.fit_transform(objects)\n",
        "\n",
        "\n",
        "# Concatenate subject and object vectors\n",
        "X = np.hstack((subject_vectors.toarray(), object_vectors.toarray()))\n",
        "y = np.array(relations)\n",
        "\n",
        "# Split data into training and testing sets\n",
        "X_train, X_test, y_train, y_test = train_test_split(X, y, test_size=0.2, random_state=42)\n",
        "\n",
        "# Train the classifier\n",
        "clf = RandomForestClassifier(n_estimators=100, random_state=42)\n",
        "print(X_test.shape)\n",
        "print(X_test[100])\n",
        "clf.fit(X_train, y_train)\n",
        "\n",
        "# Evaluate the classifier\n",
        "y_pred = clf.predict(X_test)\n",
        "print(y_pred[10])\n",
        "print(classification_report(y_test, y_pred))\n"
      ],
      "metadata": {
        "colab": {
          "base_uri": "https://localhost:8080/"
        },
        "id": "-zv2APgNYrTv",
        "outputId": "6a8633e3-00b0-488d-f5ac-a2cc4804b4eb"
      },
      "execution_count": 11,
      "outputs": [
        {
          "output_type": "stream",
          "name": "stdout",
          "text": [
            "James Patrick Harris\n",
            "American\n",
            "(1469, 7111)\n",
            "[0 0 0 ... 0 0 0]\n",
            "11\n",
            "              precision    recall  f1-score   support\n",
            "\n",
            "           1       0.94      0.49      0.65        67\n",
            "          10       0.92      0.80      0.86        85\n",
            "          11       0.26      0.83      0.40       139\n",
            "          12       0.75      0.46      0.57       132\n",
            "          14       0.70      0.51      0.59        63\n",
            "          15       0.86      0.76      0.80        90\n",
            "           2       0.47      0.27      0.34        81\n",
            "          25       0.68      0.44      0.53       125\n",
            "           3       0.79      0.51      0.62       181\n",
            "          34       0.59      0.46      0.52       102\n",
            "           4       0.53      0.48      0.50        71\n",
            "          45       0.91      0.76      0.83        51\n",
            "           5       0.72      0.37      0.49        71\n",
            "           6       0.60      0.75      0.66       102\n",
            "           9       0.73      0.81      0.77       109\n",
            "\n",
            "    accuracy                           0.58      1469\n",
            "   macro avg       0.70      0.58      0.61      1469\n",
            "weighted avg       0.68      0.58      0.60      1469\n",
            "\n"
          ]
        }
      ]
    },
    {
      "cell_type": "code",
      "source": [
        "import json\n",
        "\n",
        "# Read the original JSON data line by line\n",
        "data = []\n",
        "with open('train.json', 'r') as file:\n",
        "    for line in file:\n",
        "        data.append(json.loads(line.strip()))\n",
        "\n",
        "# Define the relations you want to keep\n",
        "relations_to_keep = {\n",
        "    'DATE_OF_BIRTH',\n",
        "    'RESIDENCE',\n",
        "    'BIRTHPLACE',\n",
        "    'NATIONALITY',\n",
        "    'EMPLOYEE_OF',\n",
        "    'EDUCATED_AT'\n",
        "}\n",
        "\n",
        "# Create a new subset containing only the desired relations\n",
        "subset = []\n",
        "for entry in data:\n",
        "    passages = entry['passages']\n",
        "    new_passages = []\n",
        "\n",
        "    for passage in passages:\n",
        "        properties = passage['exhaustivelyAnnotatedProperties']\n",
        "\n",
        "        for prop in properties:\n",
        "            if prop['propertyName'] in relations_to_keep:\n",
        "                new_passages.append(passage)\n",
        "                break\n",
        "\n",
        "    if new_passages:\n",
        "        new_entry = entry.copy()\n",
        "        new_entry['passages'] = new_passages\n",
        "        subset.append(new_entry)\n",
        "\n",
        "# Save the subset to a new JSON file\n",
        "with open('subset_train.json', 'w') as file:\n",
        "    for item in subset:\n",
        "        json.dump(item, file)\n",
        "        file.write('\\n')\n"
      ],
      "metadata": {
        "id": "FnrTgaYVm6Ce"
      },
      "execution_count": 4,
      "outputs": []
    }
  ]
}