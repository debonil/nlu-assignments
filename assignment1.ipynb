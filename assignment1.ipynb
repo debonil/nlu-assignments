{
 "cells": [
  {
   "cell_type": "code",
   "execution_count": 1,
   "metadata": {},
   "outputs": [],
   "source": [
    "import pandas as pd\n",
    "from sklearn.model_selection import train_test_split\n",
    "from sklearn.feature_extraction.text import CountVectorizer, TfidfVectorizer\n",
    "from sklearn.tree import DecisionTreeClassifier\n",
    "from sklearn.naive_bayes import MultinomialNB\n",
    "from sklearn.metrics import accuracy_score\n",
    "import matplotlib.pyplot as plt\n",
    "import numpy as np"
   ]
  },
  {
   "cell_type": "code",
   "execution_count": 2,
   "metadata": {},
   "outputs": [
    {
     "name": "stdout",
     "output_type": "stream",
     "text": [
      "                                                  review sentiment\n",
      "0      One of the other reviewers has mentioned that ...  positive\n",
      "1      A wonderful little production. <br /><br />The...  positive\n",
      "2      I thought this was a wonderful way to spend ti...  positive\n",
      "3      Basically there's a family where a little boy ...  negative\n",
      "4      Petter Mattei's \"Love in the Time of Money\" is...  positive\n",
      "...                                                  ...       ...\n",
      "49995  I thought this movie did a down right good job...  positive\n",
      "49996  Bad plot, bad dialogue, bad acting, idiotic di...  negative\n",
      "49997  I am a Catholic taught in parochial elementary...  negative\n",
      "49998  I'm going to have to disagree with the previou...  negative\n",
      "49999  No one expects the Star Trek movies to be high...  negative\n",
      "\n",
      "[50000 rows x 2 columns]\n"
     ]
    }
   ],
   "source": [
    "data = pd.read_csv('downloads/IMDB Dataset.csv')\n",
    "\n",
    "print(data)"
   ]
  },
  {
   "cell_type": "code",
   "execution_count": 3,
   "metadata": {},
   "outputs": [],
   "source": [
    "sentiments = data['sentiment']\n",
    "sentiments = sentiments.replace({\"positive\": 1, \"negative\": 0})"
   ]
  },
  {
   "attachments": {},
   "cell_type": "markdown",
   "metadata": {},
   "source": [
    "2.Define a text preprocessing pipeline, i.e., stopword removal, lower casing, punctuation removal etc\n",
    "1.Define your own train-val-test split. Ratio : (train: 18: test : 5 , val : 2)"
   ]
  },
  {
   "cell_type": "code",
   "execution_count": 4,
   "metadata": {},
   "outputs": [
    {
     "name": "stderr",
     "output_type": "stream",
     "text": [
      "[nltk_data] Downloading package stopwords to\n",
      "[nltk_data]     C:\\Users\\debon\\AppData\\Roaming\\nltk_data...\n",
      "[nltk_data]   Package stopwords is already up-to-date!\n"
     ]
    }
   ],
   "source": [
    "import nltk\n",
    "import re\n",
    "nltk.download('stopwords')\n",
    "\n",
    "from nltk.corpus import stopwords \n",
    "REPLACE_BY_SPACE_RE = re.compile('[/(){}\\[\\]\\|@,;]')\n",
    "BAD_SYMBOLS_RE = re.compile('[^0-9a-z #+_]')\n",
    "STOPWORDS = set(stopwords.words('english'))\n",
    "\n",
    "def clean_text(text):\n",
    "    text = text.lower() \n",
    "    text = REPLACE_BY_SPACE_RE.sub(' ', text) \n",
    "    text = BAD_SYMBOLS_RE.sub('', text) \n",
    "    text = text.replace('x', '')\n",
    "    text = text.replace('\\d+', '')\n",
    "    \n",
    "#    text = re.sub(r'\\W+', '', text)\n",
    "    text = ' '.join(word for word in text.split() if word not in STOPWORDS) # remove stopwors from text\n",
    "    return text\n",
    "\n",
    "reviews =data['review'].apply(clean_text)\n"
   ]
  },
  {
   "cell_type": "code",
   "execution_count": 5,
   "metadata": {},
   "outputs": [],
   "source": [
    "X_train, X_test, y_train, y_test = train_test_split(reviews,sentiments,test_size=0.2, random_state=1)\n",
    "X_train,X_val, y_train, y_val =train_test_split(X_train, y_train,test_size=0.1, random_state=1 )"
   ]
  },
  {
   "cell_type": "code",
   "execution_count": 6,
   "metadata": {},
   "outputs": [
    {
     "name": "stdout",
     "output_type": "stream",
     "text": [
      "(10000,)\n",
      "(36000,)\n",
      "(4000,)\n"
     ]
    }
   ],
   "source": [
    "print(X_test.shape)\n",
    "print(X_train.shape)\n",
    "print(X_val.shape)"
   ]
  },
  {
   "attachments": {},
   "cell_type": "markdown",
   "metadata": {},
   "source": [
    "Developing ML methods:\n",
    "1. Model a Naive Bayes classifier.\n",
    "a. Count vectorizer features.\n",
    "b. TF-IDF features.\n"
   ]
  },
  {
   "cell_type": "code",
   "execution_count": 7,
   "metadata": {},
   "outputs": [],
   "source": [
    "vectorizer = CountVectorizer()\n",
    "X_train_count = vectorizer.fit_transform(X_train)\n",
    "clf = MultinomialNB()\n",
    "clf.fit(X_train_count, y_train)\n",
    "\n",
    "X_test_count = vectorizer.transform(X_test)\n",
    "y_pred = clf.predict(X_test_count)\n",
    "accuracy = accuracy_score(y_test, y_pred)\n"
   ]
  },
  {
   "cell_type": "code",
   "execution_count": 8,
   "metadata": {},
   "outputs": [
    {
     "name": "stdout",
     "output_type": "stream",
     "text": [
      "86.16\n"
     ]
    }
   ],
   "source": [
    "print(accuracy*100)"
   ]
  },
  {
   "cell_type": "code",
   "execution_count": 9,
   "metadata": {},
   "outputs": [],
   "source": [
    "vectorizer = TfidfVectorizer()\n",
    "X_train_tfidf = vectorizer.fit_transform(X_train)\n",
    "\n",
    "clf = MultinomialNB()\n",
    "clf.fit(X_train_tfidf, y_train)\n",
    "\n",
    "X_test_tfidf = vectorizer.transform(X_test)\n",
    "y_pred = clf.predict(X_test_tfidf)\n",
    "accuracy_tfidf = accuracy_score(y_test, y_pred)"
   ]
  },
  {
   "cell_type": "code",
   "execution_count": 10,
   "metadata": {},
   "outputs": [
    {
     "name": "stdout",
     "output_type": "stream",
     "text": [
      "86.91\n"
     ]
    }
   ],
   "source": [
    "print(accuracy_tfidf*100)"
   ]
  },
  {
   "attachments": {},
   "cell_type": "markdown",
   "metadata": {},
   "source": [
    "3. ii ) Model a decision tree with TF-IDF features"
   ]
  },
  {
   "cell_type": "code",
   "execution_count": 11,
   "metadata": {},
   "outputs": [],
   "source": [
    "clf = DecisionTreeClassifier()\n",
    "clf.fit(X_train_tfidf, y_train)\n",
    "y_pred = clf.predict(X_test_tfidf)\n",
    "accuracy_dec = accuracy_score(y_test, y_pred)"
   ]
  },
  {
   "cell_type": "code",
   "execution_count": 12,
   "metadata": {},
   "outputs": [
    {
     "name": "stdout",
     "output_type": "stream",
     "text": [
      "71.74000000000001\n"
     ]
    }
   ],
   "source": [
    "print(accuracy_dec*100)"
   ]
  },
  {
   "attachments": {},
   "cell_type": "markdown",
   "metadata": {},
   "source": [
    "4. Developing Deep neural networks:\n",
    "\n",
    "    a. RNN model.\n",
    "    \n",
    "      1. 64 hidden-vector dimension.\n"
   ]
  },
  {
   "cell_type": "code",
   "execution_count": 72,
   "metadata": {},
   "outputs": [],
   "source": [
    "# helps in model building\n",
    "from tensorflow import keras\n",
    "from keras.models import Sequential\n",
    "from keras.layers import Dense\n",
    "from keras.layers import SimpleRNN\n",
    "from keras.layers import InputLayer\n",
    "from keras.layers import Flatten\n",
    "from keras.layers import Dropout\n",
    "from keras.layers import Embedding\n",
    "from keras.layers import Bidirectional\n",
    "from keras.layers import LSTM\n",
    "from keras.callbacks import EarlyStopping"
   ]
  },
  {
   "cell_type": "code",
   "execution_count": 14,
   "metadata": {},
   "outputs": [],
   "source": [
    "# helps in text preprocessing\n",
    "from keras.utils import pad_sequences\n",
    "from keras.preprocessing.text import Tokenizer\n",
    "\n",
    "t = Tokenizer()\n",
    "t.fit_on_texts(X_train)"
   ]
  },
  {
   "cell_type": "code",
   "execution_count": 15,
   "metadata": {},
   "outputs": [
    {
     "name": "stdout",
     "output_type": "stream",
     "text": [
      "[[1148, 3671, 9852, 849, 1119, 376, 21997, 51, 34614, 1639, 58, 93, 89, 1417, 3587, 536, 1739, 2053, 23070, 1246, 68414, 17410, 1701, 90, 13784, 2988, 1, 21, 42, 63, 4406, 4239, 136, 5, 10514, 52, 86, 70, 21998, 1601, 51, 86, 6, 2, 521, 700, 81, 415, 2325, 921, 3, 158, 921, 104, 511, 13, 13, 45], [14, 255, 4966, 3760, 10326, 345, 42, 99, 1588, 14928, 2471, 40, 496, 38398, 126, 6151, 2374, 162, 155, 1155, 3207, 124, 395, 78, 337, 13161, 5, 39, 1848, 3461, 43767, 22, 1853, 9252, 1, 124, 61, 42, 128, 817, 2149, 187, 719, 468, 151, 145, 44, 419, 54, 817, 416, 42, 735, 7, 3497, 5, 369, 596, 21022, 1015, 51982, 1, 42, 183, 821, 2919, 14, 5, 249, 68415, 1002, 8612, 6208, 54, 817, 2567, 5, 1890, 50, 7968, 250, 4101, 2316, 54, 685, 335, 12584, 1, 1716, 99, 1525, 1616, 409, 70, 118, 108, 1442, 266, 187, 12306, 6387, 77, 127, 8494, 2283, 298, 2132, 12306, 37, 1566, 5268, 43768, 304, 68416, 4223, 817, 1008, 1222, 1027, 97, 15, 1483, 56, 94, 176, 409, 1303, 42, 12584, 1, 11, 441, 354, 47, 5311, 104, 21, 96, 497, 104, 293, 134, 34615, 19373, 2752, 1246, 29, 94, 481, 331, 447, 13, 45, 2665, 26, 2, 68417, 79, 4575, 1616, 198, 34616, 2579, 1, 4, 294, 147, 24, 102, 44, 33, 235, 75, 610, 592, 52, 779, 68418, 488, 254, 42, 54, 809]]\n"
     ]
    }
   ],
   "source": [
    "encoded_train = t.texts_to_sequences(X_train)\n",
    "encoded_test = t.texts_to_sequences(X_test)\n",
    "encoded_val = t.texts_to_sequences(X_val)\n",
    "print(encoded_train[0:2])"
   ]
  },
  {
   "cell_type": "code",
   "execution_count": 16,
   "metadata": {},
   "outputs": [
    {
     "name": "stdout",
     "output_type": "stream",
     "text": [
      "[[  1148   3671   9852 ...      0      0      0]\n",
      " [    97     15   1483 ...     42     54    809]\n",
      " [ 43769   7556    490 ...    258     47  68421]\n",
      " ...\n",
      " [    47   3480      4 ...   1285   1347   2052]\n",
      " [  3017   3017 139062 ...   8505  20062    503]\n",
      " [   110   1339   5355 ...      0      0      0]]\n"
     ]
    }
   ],
   "source": [
    "max_length = 64\n",
    "padded_train = pad_sequences(encoded_train, maxlen=max_length, padding='post')\n",
    "padded_test = pad_sequences(encoded_test, maxlen=max_length, padding='post')\n",
    "padded_val = pad_sequences(encoded_val, maxlen=max_length, padding='post')\n",
    "print(padded_train)"
   ]
  },
  {
   "cell_type": "code",
   "execution_count": 45,
   "metadata": {},
   "outputs": [
    {
     "name": "stdout",
     "output_type": "stream",
     "text": [
      "Model: \"SimpleRNNModel64\"\n",
      "_________________________________________________________________\n",
      " Layer (type)                Output Shape              Param #   \n",
      "=================================================================\n",
      " embedding_6 (Embedding)     (None, 64, 64)            8900032   \n",
      "                                                                 \n",
      " simple_rnn_6 (SimpleRNN)    (None, 64)                8256      \n",
      "                                                                 \n",
      " dense_6 (Dense)             (None, 64)                4160      \n",
      "                                                                 \n",
      " dropout (Dropout)           (None, 64)                0         \n",
      "                                                                 \n",
      " dense_7 (Dense)             (None, 1)                 65        \n",
      "                                                                 \n",
      "=================================================================\n",
      "Total params: 8,912,513\n",
      "Trainable params: 8,912,513\n",
      "Non-trainable params: 0\n",
      "_________________________________________________________________\n",
      "None\n"
     ]
    }
   ],
   "source": [
    "vocab_size = len(t.word_index) + 1\n",
    "# define the model\n",
    "RNNModel64 = Sequential(name=\"SimpleRNNModel64\")\n",
    "RNNModel64.add(Embedding(vocab_size, 64, input_length=max_length))\n",
    "RNNModel64.add(SimpleRNN(64, return_sequences=False))\n",
    "RNNModel64.add(Dense(64, activation='relu'))\n",
    "RNNModel64.add(keras.layers.Dropout(0.5))\n",
    "RNNModel64.add(Dense(1, activation='relu'))\n",
    "\n",
    "\n",
    "opt = keras.optimizers.Adam(1e-5)\n",
    "\n",
    "# compile the model\n",
    "RNNModel64.compile(optimizer=opt, loss='binary_crossentropy', metrics=['accuracy'])\n",
    "\n",
    "# summarize the model\n",
    "print(RNNModel64.summary())"
   ]
  },
  {
   "cell_type": "code",
   "execution_count": 46,
   "metadata": {},
   "outputs": [],
   "source": [
    "def plot_training_graph(history):\n",
    "    # list all data in history\n",
    "    print(history.history.keys())\n",
    "    # summarize history for accuracy\n",
    "    plt.plot(history.history['accuracy'])\n",
    "    plt.plot(history.history['val_accuracy'])\n",
    "    plt.title('model accuracy')\n",
    "    plt.ylabel('accuracy')\n",
    "    plt.xlabel('epoch')\n",
    "    plt.legend(['train', 'test'], loc='upper left')\n",
    "    plt.show()\n",
    "    # summarize history for loss\n",
    "    plt.plot(history.history['loss'])\n",
    "    plt.plot(history.history['val_loss'])\n",
    "    plt.title('model loss')\n",
    "    plt.ylabel('loss')\n",
    "    plt.xlabel('epoch')\n",
    "    plt.legend(['train', 'test'], loc='upper left')\n",
    "    plt.show()"
   ]
  },
  {
   "cell_type": "code",
   "execution_count": 47,
   "metadata": {},
   "outputs": [
    {
     "name": "stdout",
     "output_type": "stream",
     "text": [
      "Epoch 1/100\n",
      "1125/1125 [==============================] - 115s 101ms/step - loss: 2.5126 - accuracy: 0.5008 - val_loss: 0.7675 - val_accuracy: 0.5063\n",
      "Epoch 2/100\n",
      "1125/1125 [==============================] - 113s 101ms/step - loss: 0.9826 - accuracy: 0.5072 - val_loss: 0.7182 - val_accuracy: 0.5002\n",
      "Epoch 3/100\n",
      "1125/1125 [==============================] - 118s 105ms/step - loss: 0.9051 - accuracy: 0.5122 - val_loss: 0.7187 - val_accuracy: 0.5038\n",
      "Epoch 4/100\n",
      "1125/1125 [==============================] - 144s 128ms/step - loss: 0.8719 - accuracy: 0.5154 - val_loss: 0.7069 - val_accuracy: 0.5060\n",
      "Epoch 5/100\n",
      "1125/1125 [==============================] - 151s 134ms/step - loss: 0.8503 - accuracy: 0.5225 - val_loss: 0.7049 - val_accuracy: 0.5085\n",
      "Epoch 6/100\n",
      "1125/1125 [==============================] - 115s 102ms/step - loss: 0.8081 - accuracy: 0.5312 - val_loss: 0.7008 - val_accuracy: 0.5157\n",
      "Epoch 7/100\n",
      "1125/1125 [==============================] - 114s 101ms/step - loss: 0.7954 - accuracy: 0.5314 - val_loss: 0.6935 - val_accuracy: 0.5270\n",
      "Epoch 8/100\n",
      "1125/1125 [==============================] - 114s 101ms/step - loss: 0.7600 - accuracy: 0.5473 - val_loss: 0.6934 - val_accuracy: 0.5320\n",
      "Epoch 9/100\n",
      "1125/1125 [==============================] - 116s 103ms/step - loss: 0.7426 - accuracy: 0.5521 - val_loss: 0.6877 - val_accuracy: 0.5497\n",
      "Epoch 10/100\n",
      "1125/1125 [==============================] - 115s 102ms/step - loss: 0.7159 - accuracy: 0.5743 - val_loss: 0.6748 - val_accuracy: 0.5675\n",
      "Epoch 11/100\n",
      "1125/1125 [==============================] - 115s 102ms/step - loss: 0.6899 - accuracy: 0.5982 - val_loss: 0.6572 - val_accuracy: 0.5997\n",
      "Epoch 12/100\n",
      "1125/1125 [==============================] - 115s 102ms/step - loss: 0.6477 - accuracy: 0.6358 - val_loss: 0.6407 - val_accuracy: 0.6378\n",
      "Epoch 13/100\n",
      "1125/1125 [==============================] - 114s 101ms/step - loss: 0.6260 - accuracy: 0.6584 - val_loss: 0.6154 - val_accuracy: 0.6705\n",
      "Epoch 14/100\n",
      "1125/1125 [==============================] - 114s 101ms/step - loss: 0.5840 - accuracy: 0.6859 - val_loss: 0.6183 - val_accuracy: 0.7088\n",
      "Epoch 15/100\n",
      "1125/1125 [==============================] - 114s 101ms/step - loss: 0.5430 - accuracy: 0.7214 - val_loss: 0.6069 - val_accuracy: 0.7368\n",
      "Epoch 16/100\n",
      "1125/1125 [==============================] - 114s 102ms/step - loss: 0.5150 - accuracy: 0.7511 - val_loss: 0.6172 - val_accuracy: 0.7577\n",
      "Epoch 17/100\n",
      "1125/1125 [==============================] - 114s 102ms/step - loss: 0.4831 - accuracy: 0.7776 - val_loss: 0.5790 - val_accuracy: 0.7705\n",
      "Epoch 18/100\n",
      "1125/1125 [==============================] - 112s 99ms/step - loss: 0.4501 - accuracy: 0.7905 - val_loss: 0.6048 - val_accuracy: 0.7747\n",
      "Epoch 19/100\n",
      "1125/1125 [==============================] - 114s 102ms/step - loss: 0.4239 - accuracy: 0.8108 - val_loss: 0.6593 - val_accuracy: 0.7765\n",
      "Epoch 20/100\n",
      "1125/1125 [==============================] - 123s 109ms/step - loss: 0.4119 - accuracy: 0.8295 - val_loss: 0.5985 - val_accuracy: 0.7947\n",
      "Epoch 21/100\n",
      "1125/1125 [==============================] - 137s 121ms/step - loss: 0.3891 - accuracy: 0.8409 - val_loss: 0.5697 - val_accuracy: 0.8010\n",
      "Epoch 22/100\n",
      "1125/1125 [==============================] - 115s 102ms/step - loss: 0.3621 - accuracy: 0.8572 - val_loss: 0.6256 - val_accuracy: 0.8035\n",
      "Epoch 23/100\n",
      "1125/1125 [==============================] - 114s 102ms/step - loss: 0.3414 - accuracy: 0.8723 - val_loss: 0.6505 - val_accuracy: 0.8092\n",
      "Epoch 24/100\n",
      "1125/1125 [==============================] - 115s 102ms/step - loss: 0.3235 - accuracy: 0.8881 - val_loss: 0.5988 - val_accuracy: 0.8140\n",
      "Epoch 25/100\n",
      "1125/1125 [==============================] - 115s 102ms/step - loss: 0.3057 - accuracy: 0.8991 - val_loss: 0.6806 - val_accuracy: 0.8205\n",
      "Epoch 26/100\n",
      "1125/1125 [==============================] - 115s 102ms/step - loss: 0.2850 - accuracy: 0.9039 - val_loss: 0.6479 - val_accuracy: 0.8220\n",
      "Epoch 27/100\n",
      "1125/1125 [==============================] - 118s 105ms/step - loss: 0.2652 - accuracy: 0.9167 - val_loss: 0.7313 - val_accuracy: 0.8240\n",
      "Epoch 28/100\n",
      "1125/1125 [==============================] - 115s 102ms/step - loss: 0.2608 - accuracy: 0.9217 - val_loss: 0.6692 - val_accuracy: 0.8188\n",
      "Epoch 29/100\n",
      "1125/1125 [==============================] - 116s 103ms/step - loss: 0.2317 - accuracy: 0.9235 - val_loss: 0.5881 - val_accuracy: 0.8282\n",
      "Epoch 30/100\n",
      "1125/1125 [==============================] - 114s 102ms/step - loss: 0.2228 - accuracy: 0.9402 - val_loss: 0.7372 - val_accuracy: 0.8267\n",
      "Epoch 31/100\n",
      "1125/1125 [==============================] - 115s 102ms/step - loss: 0.2106 - accuracy: 0.9454 - val_loss: 0.8328 - val_accuracy: 0.8300\n",
      "Epoch 31: early stopping\n",
      "dict_keys(['loss', 'accuracy', 'val_loss', 'val_accuracy'])\n"
     ]
    },
    {
     "data": {
      "image/png": "[encoded data removed]",
      "text/plain": [
       "<Figure size 640x480 with 1 Axes>"
      ]
     },
     "metadata": {},
     "output_type": "display_data"
    },
    {
     "data": {
      "image/png": "[encoded data removed]",
      "text/plain": [
       "<Figure size 640x480 with 1 Axes>"
      ]
     },
     "metadata": {},
     "output_type": "display_data"
    }
   ],
   "source": [
    "early_stop = EarlyStopping(monitor='val_loss', mode='min', verbose=1, patience=5)\n",
    "\n",
    "# fit the model\n",
    "history = RNNModel64.fit(x=padded_train,\n",
    "         y=y_train,\n",
    "         epochs=100,\n",
    "         validation_data=(padded_val, y_val), verbose=1,\n",
    "         callbacks=[early_stop]\n",
    "         )\n",
    "plot_training_graph(history)"
   ]
  },
  {
   "cell_type": "code",
   "execution_count": 54,
   "metadata": {},
   "outputs": [],
   "source": [
    "from sklearn.metrics import classification_report, confusion_matrix, accuracy_score\n",
    "\n",
    "import matplotlib.pyplot as plt\n",
    "import seaborn as sns\n",
    "\n",
    "def c_report(y_true, y_pred):\n",
    "   print(\"Classification Report\")\n",
    "   print(classification_report(y_true, y_pred))\n",
    "   acc_sc = accuracy_score(y_true, y_pred)\n",
    "   print(\"Accuracy : \"+ str(acc_sc))\n",
    "   return acc_sc\n",
    "\n",
    "def plot_confusion_matrix(y_true, y_pred):\n",
    "   mtx = confusion_matrix(y_true, y_pred)\n",
    "   sns.heatmap(mtx, annot=True, fmt='d', linewidths=.5, \n",
    "               cmap=\"Blues\", cbar=False)\n",
    "   plt.ylabel('True label')\n",
    "   plt.xlabel('Predicted label')"
   ]
  },
  {
   "cell_type": "code",
   "execution_count": 55,
   "metadata": {},
   "outputs": [
    {
     "name": "stdout",
     "output_type": "stream",
     "text": [
      "313/313 [==============================] - 1s 3ms/step\n"
     ]
    }
   ],
   "source": [
    "preds_rnn_64 = (RNNModel64.predict(padded_test) > 0.5).astype(\"int32\")"
   ]
  },
  {
   "cell_type": "code",
   "execution_count": 56,
   "metadata": {},
   "outputs": [
    {
     "name": "stdout",
     "output_type": "stream",
     "text": [
      "Classification Report\n",
      "              precision    recall  f1-score   support\n",
      "\n",
      "           0       0.85      0.83      0.84      5044\n",
      "           1       0.83      0.85      0.84      4956\n",
      "\n",
      "    accuracy                           0.84     10000\n",
      "   macro avg       0.84      0.84      0.84     10000\n",
      "weighted avg       0.84      0.84      0.84     10000\n",
      "\n",
      "Accuracy : 0.8398\n"
     ]
    },
    {
     "data": {
      "text/plain": [
       "0.8398"
      ]
     },
     "execution_count": 56,
     "metadata": {},
     "output_type": "execute_result"
    }
   ],
   "source": [
    "c_report(y_test, preds_rnn_64)"
   ]
  },
  {
   "cell_type": "code",
   "execution_count": 57,
   "metadata": {},
   "outputs": [
    {
     "data": {
      "image/png": "[encoded data removed]",
      "text/plain": [
       "<Figure size 640x480 with 1 Axes>"
      ]
     },
     "metadata": {},
     "output_type": "display_data"
    }
   ],
   "source": [
    "plot_confusion_matrix(y_test, preds_rnn_64)"
   ]
  },
  {
   "attachments": {},
   "cell_type": "markdown",
   "metadata": {},
   "source": [
    "4. Developing Deep neural networks:\n",
    "\n",
    "    a. RNN model.\n",
    "    \n",
    "      2. 256 hidden-vector dimension.\n"
   ]
  },
  {
   "cell_type": "code",
   "execution_count": 63,
   "metadata": {},
   "outputs": [
    {
     "name": "stdout",
     "output_type": "stream",
     "text": [
      "Model: \"SimpleRNNModel256\"\n",
      "_________________________________________________________________\n",
      " Layer (type)                Output Shape              Param #   \n",
      "=================================================================\n",
      " embedding_10 (Embedding)    (None, 64, 256)           35600128  \n",
      "                                                                 \n",
      " simple_rnn_10 (SimpleRNN)   (None, 256)               131328    \n",
      "                                                                 \n",
      " dense_14 (Dense)            (None, 256)               65792     \n",
      "                                                                 \n",
      " dropout_4 (Dropout)         (None, 256)               0         \n",
      "                                                                 \n",
      " dense_15 (Dense)            (None, 1)                 257       \n",
      "                                                                 \n",
      "=================================================================\n",
      "Total params: 35,797,505\n",
      "Trainable params: 35,797,505\n",
      "Non-trainable params: 0\n",
      "_________________________________________________________________\n",
      "None\n"
     ]
    }
   ],
   "source": [
    "# define the model\n",
    "RNNModel256 = Sequential(name=\"SimpleRNNModel256\")\n",
    "RNNModel256.add(Embedding(vocab_size, 256, input_length=max_length))\n",
    "RNNModel256.add(SimpleRNN(256, return_sequences=False))\n",
    "RNNModel256.add(Dense(256, activation='relu'))\n",
    "RNNModel256.add(keras.layers.Dropout(0.5))\n",
    "RNNModel256.add(Dense(1, activation='relu'))\n",
    "\n",
    "\n",
    "opt = keras.optimizers.Adam(learning_rate=1e-5)\n",
    "\n",
    "# compile the model\n",
    "RNNModel256.compile(optimizer=opt, loss='binary_crossentropy', metrics=['accuracy'])\n",
    "\n",
    "# summarize the model\n",
    "print(RNNModel256.summary())"
   ]
  },
  {
   "cell_type": "code",
   "execution_count": 64,
   "metadata": {},
   "outputs": [
    {
     "name": "stdout",
     "output_type": "stream",
     "text": [
      "Epoch 1/100\n",
      "1125/1125 [==============================] - 514s 456ms/step - loss: 1.8721 - accuracy: 0.5036 - val_loss: 0.7164 - val_accuracy: 0.5128\n",
      "Epoch 2/100\n",
      "1125/1125 [==============================] - 451s 401ms/step - loss: 0.9338 - accuracy: 0.5159 - val_loss: 0.7018 - val_accuracy: 0.5310\n",
      "Epoch 3/100\n",
      "1125/1125 [==============================] - 475s 422ms/step - loss: 0.8536 - accuracy: 0.5385 - val_loss: 0.6928 - val_accuracy: 0.5445\n",
      "Epoch 4/100\n",
      "1125/1125 [==============================] - 476s 423ms/step - loss: 0.7736 - accuracy: 0.5683 - val_loss: 0.6766 - val_accuracy: 0.5742\n",
      "Epoch 5/100\n",
      "1125/1125 [==============================] - 481s 427ms/step - loss: 0.7163 - accuracy: 0.6034 - val_loss: 0.6616 - val_accuracy: 0.6028\n",
      "Epoch 6/100\n",
      "1125/1125 [==============================] - 419s 372ms/step - loss: 0.6339 - accuracy: 0.6693 - val_loss: 0.5937 - val_accuracy: 0.7048\n",
      "Epoch 7/100\n",
      "1125/1125 [==============================] - 472s 420ms/step - loss: 0.5759 - accuracy: 0.7365 - val_loss: 0.5647 - val_accuracy: 0.7398\n",
      "Epoch 8/100\n",
      "1125/1125 [==============================] - 507s 450ms/step - loss: 0.5072 - accuracy: 0.7842 - val_loss: 0.5416 - val_accuracy: 0.7678\n",
      "Epoch 9/100\n",
      "1125/1125 [==============================] - 517s 460ms/step - loss: 0.4723 - accuracy: 0.8145 - val_loss: 0.5448 - val_accuracy: 0.7865\n",
      "Epoch 10/100\n",
      "1125/1125 [==============================] - 472s 420ms/step - loss: 0.3884 - accuracy: 0.8569 - val_loss: 0.5953 - val_accuracy: 0.8018\n",
      "Epoch 11/100\n",
      "1125/1125 [==============================] - 513s 456ms/step - loss: 0.3408 - accuracy: 0.8839 - val_loss: 0.5604 - val_accuracy: 0.8098\n",
      "Epoch 12/100\n",
      "1125/1125 [==============================] - 494s 439ms/step - loss: 0.2944 - accuracy: 0.9024 - val_loss: 0.6748 - val_accuracy: 0.8213\n",
      "Epoch 13/100\n",
      "1125/1125 [==============================] - 461s 409ms/step - loss: 0.3022 - accuracy: 0.9087 - val_loss: 0.6534 - val_accuracy: 0.8220\n",
      "Epoch 14/100\n",
      "1125/1125 [==============================] - 425s 378ms/step - loss: 0.2381 - accuracy: 0.9235 - val_loss: 0.7498 - val_accuracy: 0.8298\n",
      "Epoch 15/100\n",
      "1125/1125 [==============================] - 425s 378ms/step - loss: 0.2342 - accuracy: 0.9402 - val_loss: 0.7121 - val_accuracy: 0.8267\n",
      "Epoch 16/100\n",
      "1125/1125 [==============================] - 425s 378ms/step - loss: 0.1811 - accuracy: 0.9509 - val_loss: 0.9403 - val_accuracy: 0.8340\n",
      "Epoch 17/100\n",
      "1125/1125 [==============================] - 426s 378ms/step - loss: 0.2230 - accuracy: 0.9389 - val_loss: 0.8354 - val_accuracy: 0.8338\n",
      "Epoch 18/100\n",
      "1125/1125 [==============================] - 424s 377ms/step - loss: 0.1934 - accuracy: 0.9425 - val_loss: 0.5388 - val_accuracy: 0.7837\n",
      "Epoch 19/100\n",
      "1125/1125 [==============================] - 426s 378ms/step - loss: 0.1686 - accuracy: 0.9536 - val_loss: 0.7921 - val_accuracy: 0.8390\n",
      "Epoch 20/100\n",
      "1125/1125 [==============================] - 426s 378ms/step - loss: 0.1554 - accuracy: 0.9640 - val_loss: 0.8198 - val_accuracy: 0.8415\n",
      "Epoch 21/100\n",
      "1125/1125 [==============================] - 426s 379ms/step - loss: 0.0987 - accuracy: 0.9780 - val_loss: 0.8647 - val_accuracy: 0.8410\n",
      "Epoch 22/100\n",
      "1125/1125 [==============================] - 425s 377ms/step - loss: 0.0820 - accuracy: 0.9846 - val_loss: 1.0314 - val_accuracy: 0.8403\n",
      "Epoch 23/100\n",
      "1125/1125 [==============================] - 425s 378ms/step - loss: 0.0861 - accuracy: 0.9800 - val_loss: 1.0132 - val_accuracy: 0.8407\n",
      "Epoch 24/100\n",
      "1125/1125 [==============================] - 425s 378ms/step - loss: 0.0610 - accuracy: 0.9900 - val_loss: 1.2186 - val_accuracy: 0.8397\n",
      "Epoch 25/100\n",
      "1125/1125 [==============================] - 424s 377ms/step - loss: 0.0530 - accuracy: 0.9932 - val_loss: 1.2733 - val_accuracy: 0.8380\n",
      "Epoch 26/100\n",
      "1125/1125 [==============================] - 426s 378ms/step - loss: 0.0525 - accuracy: 0.9937 - val_loss: 1.2764 - val_accuracy: 0.8350\n",
      "Epoch 27/100\n",
      "1125/1125 [==============================] - 425s 378ms/step - loss: 0.0430 - accuracy: 0.9959 - val_loss: 1.5543 - val_accuracy: 0.8300\n",
      "Epoch 28/100\n",
      "1125/1125 [==============================] - 426s 379ms/step - loss: 0.0396 - accuracy: 0.9969 - val_loss: 1.6899 - val_accuracy: 0.8282\n",
      "Epoch 28: early stopping\n",
      "dict_keys(['loss', 'accuracy', 'val_loss', 'val_accuracy'])\n"
     ]
    },
    {
     "data": {
      "image/png": "[encoded data removed]",
      "text/plain": [
       "<Figure size 640x480 with 1 Axes>"
      ]
     },
     "metadata": {},
     "output_type": "display_data"
    },
    {
     "data": {
      "image/png": "[encoded data removed]",
      "text/plain": [
       "<Figure size 640x480 with 1 Axes>"
      ]
     },
     "metadata": {},
     "output_type": "display_data"
    }
   ],
   "source": [
    "early_stop = EarlyStopping(monitor='val_loss', mode='min', verbose=1, patience=5)\n",
    "\n",
    "# fit the model\n",
    "history = RNNModel256.fit(x=padded_train,\n",
    "         y=y_train,\n",
    "         epochs=100,\n",
    "         validation_data=(padded_val, y_val), verbose=1,\n",
    "         callbacks=[early_stop]\n",
    "         )\n",
    "plot_training_graph(history)"
   ]
  },
  {
   "cell_type": "code",
   "execution_count": 68,
   "metadata": {},
   "outputs": [
    {
     "name": "stdout",
     "output_type": "stream",
     "text": [
      "313/313 [==============================] - 4s 11ms/step\n"
     ]
    }
   ],
   "source": [
    "preds_rnn_256 = (RNNModel256.predict(padded_test) > 0.5).astype(\"int32\")"
   ]
  },
  {
   "cell_type": "code",
   "execution_count": 69,
   "metadata": {},
   "outputs": [
    {
     "name": "stdout",
     "output_type": "stream",
     "text": [
      "Classification Report\n",
      "              precision    recall  f1-score   support\n",
      "\n",
      "           0       0.84      0.82      0.83      5044\n",
      "           1       0.82      0.85      0.83      4956\n",
      "\n",
      "    accuracy                           0.83     10000\n",
      "   macro avg       0.83      0.83      0.83     10000\n",
      "weighted avg       0.83      0.83      0.83     10000\n",
      "\n",
      "Accuracy : 0.8338\n"
     ]
    },
    {
     "data": {
      "text/plain": [
       "0.8338"
      ]
     },
     "execution_count": 69,
     "metadata": {},
     "output_type": "execute_result"
    }
   ],
   "source": [
    "c_report(y_test, preds_rnn_256)"
   ]
  },
  {
   "cell_type": "code",
   "execution_count": 70,
   "metadata": {},
   "outputs": [
    {
     "data": {
      "image/png": "[encoded data removed]",
      "text/plain": [
       "<Figure size 640x480 with 1 Axes>"
      ]
     },
     "metadata": {},
     "output_type": "display_data"
    }
   ],
   "source": [
    "plot_confusion_matrix(y_test, preds_rnn_256)"
   ]
  },
  {
   "attachments": {},
   "cell_type": "markdown",
   "metadata": {},
   "source": [
    "4. Developing Deep neural networks:\n",
    "\n",
    "    b. 1-layer LSTM model\n"
   ]
  },
  {
   "cell_type": "code",
   "execution_count": 73,
   "metadata": {},
   "outputs": [
    {
     "name": "stdout",
     "output_type": "stream",
     "text": [
      "Model: \"SingleLSTMLayer64\"\n",
      "_________________________________________________________________\n",
      " Layer (type)                Output Shape              Param #   \n",
      "=================================================================\n",
      " embedding_12 (Embedding)    (None, 64, 256)           35600128  \n",
      "                                                                 \n",
      " lstm (LSTM)                 (None, 64)                82176     \n",
      "                                                                 \n",
      " dense_16 (Dense)            (None, 64)                4160      \n",
      "                                                                 \n",
      " dropout_5 (Dropout)         (None, 64)                0         \n",
      "                                                                 \n",
      " dense_17 (Dense)            (None, 1)                 65        \n",
      "                                                                 \n",
      "=================================================================\n",
      "Total params: 35,686,529\n",
      "Trainable params: 35,686,529\n",
      "Non-trainable params: 0\n",
      "_________________________________________________________________\n",
      "None\n"
     ]
    }
   ],
   "source": [
    "# define the model\n",
    "SingleLSTMLayer64 = Sequential(name=\"SingleLSTMLayer64\")\n",
    "SingleLSTMLayer64.add(Embedding(vocab_size, 256, input_length=max_length))\n",
    "SingleLSTMLayer64.add(LSTM(64, return_sequences=False))\n",
    "SingleLSTMLayer64.add(Dense(64, activation='relu'))\n",
    "SingleLSTMLayer64.add(keras.layers.Dropout(0.5))\n",
    "SingleLSTMLayer64.add(Dense(1, activation='relu'))\n",
    "\n",
    "\n",
    "opt = keras.optimizers.Adam(learning_rate=1e-5)\n",
    "\n",
    "# compile the model\n",
    "SingleLSTMLayer64.compile(optimizer=opt, loss='binary_crossentropy', metrics=['accuracy'])\n",
    "\n",
    "# summarize the model\n",
    "print(SingleLSTMLayer64.summary())"
   ]
  },
  {
   "cell_type": "code",
   "execution_count": 74,
   "metadata": {},
   "outputs": [
    {
     "name": "stdout",
     "output_type": "stream",
     "text": [
      "Epoch 1/100\n",
      "1125/1125 [==============================] - 519s 457ms/step - loss: 3.0291 - accuracy: 0.4984 - val_loss: 1.6284 - val_accuracy: 0.5030\n",
      "Epoch 2/100\n",
      "1125/1125 [==============================] - 502s 446ms/step - loss: 1.6002 - accuracy: 0.4984 - val_loss: 1.3833 - val_accuracy: 0.5030\n",
      "Epoch 3/100\n",
      "1125/1125 [==============================] - 520s 462ms/step - loss: 1.3438 - accuracy: 0.4984 - val_loss: 1.2049 - val_accuracy: 0.5030\n",
      "Epoch 4/100\n",
      "1125/1125 [==============================] - 498s 443ms/step - loss: 1.1467 - accuracy: 0.4986 - val_loss: 1.0066 - val_accuracy: 0.5030\n",
      "Epoch 5/100\n",
      "1125/1125 [==============================] - 490s 435ms/step - loss: 0.9234 - accuracy: 0.5045 - val_loss: 0.7737 - val_accuracy: 0.5140\n",
      "Epoch 6/100\n",
      "1125/1125 [==============================] - 489s 434ms/step - loss: 0.7440 - accuracy: 0.5361 - val_loss: 0.6633 - val_accuracy: 0.5968\n",
      "Epoch 7/100\n",
      "1125/1125 [==============================] - 506s 449ms/step - loss: 0.6625 - accuracy: 0.6042 - val_loss: 0.5969 - val_accuracy: 0.7700\n",
      "Epoch 8/100\n",
      "1125/1125 [==============================] - 481s 427ms/step - loss: 0.5730 - accuracy: 0.7147 - val_loss: 0.5253 - val_accuracy: 0.8020\n",
      "Epoch 9/100\n",
      "1125/1125 [==============================] - 449s 399ms/step - loss: 0.4963 - accuracy: 0.7803 - val_loss: 0.4652 - val_accuracy: 0.8267\n",
      "Epoch 10/100\n",
      "1125/1125 [==============================] - 427s 380ms/step - loss: 0.4533 - accuracy: 0.8128 - val_loss: 0.4295 - val_accuracy: 0.8413\n",
      "Epoch 11/100\n",
      "1125/1125 [==============================] - 441s 392ms/step - loss: 0.4045 - accuracy: 0.8389 - val_loss: 0.4202 - val_accuracy: 0.8480\n",
      "Epoch 12/100\n",
      "1125/1125 [==============================] - 491s 436ms/step - loss: 0.3691 - accuracy: 0.8629 - val_loss: 0.4380 - val_accuracy: 0.8528\n",
      "Epoch 13/100\n",
      "1125/1125 [==============================] - 483s 429ms/step - loss: 0.3329 - accuracy: 0.8763 - val_loss: 0.4357 - val_accuracy: 0.8547\n",
      "Epoch 14/100\n",
      "1073/1125 [===========================>..] - ETA: 22s - loss: 0.3044 - accuracy: 0.8884"
     ]
    },
    {
     "ename": "KeyboardInterrupt",
     "evalue": "",
     "output_type": "error",
     "traceback": [
      "\u001b[1;31m---------------------------------------------------------------------------\u001b[0m",
      "\u001b[1;31mKeyboardInterrupt\u001b[0m                         Traceback (most recent call last)",
      "Cell \u001b[1;32mIn [74], line 4\u001b[0m\n\u001b[0;32m      1\u001b[0m early_stop \u001b[39m=\u001b[39m EarlyStopping(monitor\u001b[39m=\u001b[39m\u001b[39m'\u001b[39m\u001b[39mval_loss\u001b[39m\u001b[39m'\u001b[39m, mode\u001b[39m=\u001b[39m\u001b[39m'\u001b[39m\u001b[39mmin\u001b[39m\u001b[39m'\u001b[39m, verbose\u001b[39m=\u001b[39m\u001b[39m1\u001b[39m, patience\u001b[39m=\u001b[39m\u001b[39m10\u001b[39m)\n\u001b[0;32m      3\u001b[0m \u001b[39m# fit the model\u001b[39;00m\n\u001b[1;32m----> 4\u001b[0m history \u001b[39m=\u001b[39m SingleLSTMLayer64\u001b[39m.\u001b[39;49mfit(x\u001b[39m=\u001b[39;49mpadded_train,\n\u001b[0;32m      5\u001b[0m          y\u001b[39m=\u001b[39;49my_train,\n\u001b[0;32m      6\u001b[0m          epochs\u001b[39m=\u001b[39;49m\u001b[39m100\u001b[39;49m,\n\u001b[0;32m      7\u001b[0m          validation_data\u001b[39m=\u001b[39;49m(padded_val, y_val), verbose\u001b[39m=\u001b[39;49m\u001b[39m1\u001b[39;49m,\n\u001b[0;32m      8\u001b[0m          callbacks\u001b[39m=\u001b[39;49m[early_stop]\n\u001b[0;32m      9\u001b[0m          )\n\u001b[0;32m     10\u001b[0m plot_training_graph(history)\n",
      "File \u001b[1;32mc:\\Users\\debon\\AppData\\Local\\Programs\\Python\\Python310\\lib\\site-packages\\keras\\utils\\traceback_utils.py:65\u001b[0m, in \u001b[0;36mfilter_traceback.<locals>.error_handler\u001b[1;34m(*args, **kwargs)\u001b[0m\n\u001b[0;32m     63\u001b[0m filtered_tb \u001b[39m=\u001b[39m \u001b[39mNone\u001b[39;00m\n\u001b[0;32m     64\u001b[0m \u001b[39mtry\u001b[39;00m:\n\u001b[1;32m---> 65\u001b[0m     \u001b[39mreturn\u001b[39;00m fn(\u001b[39m*\u001b[39margs, \u001b[39m*\u001b[39m\u001b[39m*\u001b[39mkwargs)\n\u001b[0;32m     66\u001b[0m \u001b[39mexcept\u001b[39;00m \u001b[39mException\u001b[39;00m \u001b[39mas\u001b[39;00m e:\n\u001b[0;32m     67\u001b[0m     filtered_tb \u001b[39m=\u001b[39m _process_traceback_frames(e\u001b[39m.\u001b[39m__traceback__)\n",
      "File \u001b[1;32mc:\\Users\\debon\\AppData\\Local\\Programs\\Python\\Python310\\lib\\site-packages\\keras\\engine\\training.py:1650\u001b[0m, in \u001b[0;36mModel.fit\u001b[1;34m(self, x, y, batch_size, epochs, verbose, callbacks, validation_split, validation_data, shuffle, class_weight, sample_weight, initial_epoch, steps_per_epoch, validation_steps, validation_batch_size, validation_freq, max_queue_size, workers, use_multiprocessing)\u001b[0m\n\u001b[0;32m   1642\u001b[0m \u001b[39mwith\u001b[39;00m tf\u001b[39m.\u001b[39mprofiler\u001b[39m.\u001b[39mexperimental\u001b[39m.\u001b[39mTrace(\n\u001b[0;32m   1643\u001b[0m     \u001b[39m\"\u001b[39m\u001b[39mtrain\u001b[39m\u001b[39m\"\u001b[39m,\n\u001b[0;32m   1644\u001b[0m     epoch_num\u001b[39m=\u001b[39mepoch,\n\u001b[1;32m   (...)\u001b[0m\n\u001b[0;32m   1647\u001b[0m     _r\u001b[39m=\u001b[39m\u001b[39m1\u001b[39m,\n\u001b[0;32m   1648\u001b[0m ):\n\u001b[0;32m   1649\u001b[0m     callbacks\u001b[39m.\u001b[39mon_train_batch_begin(step)\n\u001b[1;32m-> 1650\u001b[0m     tmp_logs \u001b[39m=\u001b[39m \u001b[39mself\u001b[39;49m\u001b[39m.\u001b[39;49mtrain_function(iterator)\n\u001b[0;32m   1651\u001b[0m     \u001b[39mif\u001b[39;00m data_handler\u001b[39m.\u001b[39mshould_sync:\n\u001b[0;32m   1652\u001b[0m         context\u001b[39m.\u001b[39masync_wait()\n",
      "File \u001b[1;32mc:\\Users\\debon\\AppData\\Local\\Programs\\Python\\Python310\\lib\\site-packages\\tensorflow\\python\\util\\traceback_utils.py:150\u001b[0m, in \u001b[0;36mfilter_traceback.<locals>.error_handler\u001b[1;34m(*args, **kwargs)\u001b[0m\n\u001b[0;32m    148\u001b[0m filtered_tb \u001b[39m=\u001b[39m \u001b[39mNone\u001b[39;00m\n\u001b[0;32m    149\u001b[0m \u001b[39mtry\u001b[39;00m:\n\u001b[1;32m--> 150\u001b[0m   \u001b[39mreturn\u001b[39;00m fn(\u001b[39m*\u001b[39margs, \u001b[39m*\u001b[39m\u001b[39m*\u001b[39mkwargs)\n\u001b[0;32m    151\u001b[0m \u001b[39mexcept\u001b[39;00m \u001b[39mException\u001b[39;00m \u001b[39mas\u001b[39;00m e:\n\u001b[0;32m    152\u001b[0m   filtered_tb \u001b[39m=\u001b[39m _process_traceback_frames(e\u001b[39m.\u001b[39m__traceback__)\n",
      "File \u001b[1;32mc:\\Users\\debon\\AppData\\Local\\Programs\\Python\\Python310\\lib\\site-packages\\tensorflow\\python\\eager\\polymorphic_function\\polymorphic_function.py:880\u001b[0m, in \u001b[0;36mFunction.__call__\u001b[1;34m(self, *args, **kwds)\u001b[0m\n\u001b[0;32m    877\u001b[0m compiler \u001b[39m=\u001b[39m \u001b[39m\"\u001b[39m\u001b[39mxla\u001b[39m\u001b[39m\"\u001b[39m \u001b[39mif\u001b[39;00m \u001b[39mself\u001b[39m\u001b[39m.\u001b[39m_jit_compile \u001b[39melse\u001b[39;00m \u001b[39m\"\u001b[39m\u001b[39mnonXla\u001b[39m\u001b[39m\"\u001b[39m\n\u001b[0;32m    879\u001b[0m \u001b[39mwith\u001b[39;00m OptionalXlaContext(\u001b[39mself\u001b[39m\u001b[39m.\u001b[39m_jit_compile):\n\u001b[1;32m--> 880\u001b[0m   result \u001b[39m=\u001b[39m \u001b[39mself\u001b[39m\u001b[39m.\u001b[39m_call(\u001b[39m*\u001b[39margs, \u001b[39m*\u001b[39m\u001b[39m*\u001b[39mkwds)\n\u001b[0;32m    882\u001b[0m new_tracing_count \u001b[39m=\u001b[39m \u001b[39mself\u001b[39m\u001b[39m.\u001b[39mexperimental_get_tracing_count()\n\u001b[0;32m    883\u001b[0m without_tracing \u001b[39m=\u001b[39m (tracing_count \u001b[39m==\u001b[39m new_tracing_count)\n",
      "File \u001b[1;32mc:\\Users\\debon\\AppData\\Local\\Programs\\Python\\Python310\\lib\\site-packages\\tensorflow\\python\\eager\\polymorphic_function\\polymorphic_function.py:912\u001b[0m, in \u001b[0;36mFunction._call\u001b[1;34m(self, *args, **kwds)\u001b[0m\n\u001b[0;32m    909\u001b[0m   \u001b[39mself\u001b[39m\u001b[39m.\u001b[39m_lock\u001b[39m.\u001b[39mrelease()\n\u001b[0;32m    910\u001b[0m   \u001b[39m# In this case we have created variables on the first call, so we run the\u001b[39;00m\n\u001b[0;32m    911\u001b[0m   \u001b[39m# defunned version which is guaranteed to never create variables.\u001b[39;00m\n\u001b[1;32m--> 912\u001b[0m   \u001b[39mreturn\u001b[39;00m \u001b[39mself\u001b[39m\u001b[39m.\u001b[39m_no_variable_creation_fn(\u001b[39m*\u001b[39margs, \u001b[39m*\u001b[39m\u001b[39m*\u001b[39mkwds)  \u001b[39m# pylint: disable=not-callable\u001b[39;00m\n\u001b[0;32m    913\u001b[0m \u001b[39melif\u001b[39;00m \u001b[39mself\u001b[39m\u001b[39m.\u001b[39m_variable_creation_fn \u001b[39mis\u001b[39;00m \u001b[39mnot\u001b[39;00m \u001b[39mNone\u001b[39;00m:\n\u001b[0;32m    914\u001b[0m   \u001b[39m# Release the lock early so that multiple threads can perform the call\u001b[39;00m\n\u001b[0;32m    915\u001b[0m   \u001b[39m# in parallel.\u001b[39;00m\n\u001b[0;32m    916\u001b[0m   \u001b[39mself\u001b[39m\u001b[39m.\u001b[39m_lock\u001b[39m.\u001b[39mrelease()\n",
      "File \u001b[1;32mc:\\Users\\debon\\AppData\\Local\\Programs\\Python\\Python310\\lib\\site-packages\\tensorflow\\python\\eager\\polymorphic_function\\tracing_compiler.py:134\u001b[0m, in \u001b[0;36mTracingCompiler.__call__\u001b[1;34m(self, *args, **kwargs)\u001b[0m\n\u001b[0;32m    131\u001b[0m \u001b[39mwith\u001b[39;00m \u001b[39mself\u001b[39m\u001b[39m.\u001b[39m_lock:\n\u001b[0;32m    132\u001b[0m   (concrete_function,\n\u001b[0;32m    133\u001b[0m    filtered_flat_args) \u001b[39m=\u001b[39m \u001b[39mself\u001b[39m\u001b[39m.\u001b[39m_maybe_define_function(args, kwargs)\n\u001b[1;32m--> 134\u001b[0m \u001b[39mreturn\u001b[39;00m concrete_function\u001b[39m.\u001b[39;49m_call_flat(\n\u001b[0;32m    135\u001b[0m     filtered_flat_args, captured_inputs\u001b[39m=\u001b[39;49mconcrete_function\u001b[39m.\u001b[39;49mcaptured_inputs)\n",
      "File \u001b[1;32mc:\\Users\\debon\\AppData\\Local\\Programs\\Python\\Python310\\lib\\site-packages\\tensorflow\\python\\eager\\polymorphic_function\\monomorphic_function.py:1745\u001b[0m, in \u001b[0;36mConcreteFunction._call_flat\u001b[1;34m(self, args, captured_inputs, cancellation_manager)\u001b[0m\n\u001b[0;32m   1741\u001b[0m possible_gradient_type \u001b[39m=\u001b[39m gradients_util\u001b[39m.\u001b[39mPossibleTapeGradientTypes(args)\n\u001b[0;32m   1742\u001b[0m \u001b[39mif\u001b[39;00m (possible_gradient_type \u001b[39m==\u001b[39m gradients_util\u001b[39m.\u001b[39mPOSSIBLE_GRADIENT_TYPES_NONE\n\u001b[0;32m   1743\u001b[0m     \u001b[39mand\u001b[39;00m executing_eagerly):\n\u001b[0;32m   1744\u001b[0m   \u001b[39m# No tape is watching; skip to running the function.\u001b[39;00m\n\u001b[1;32m-> 1745\u001b[0m   \u001b[39mreturn\u001b[39;00m \u001b[39mself\u001b[39m\u001b[39m.\u001b[39m_build_call_outputs(\u001b[39mself\u001b[39;49m\u001b[39m.\u001b[39;49m_inference_function\u001b[39m.\u001b[39;49mcall(\n\u001b[0;32m   1746\u001b[0m       ctx, args, cancellation_manager\u001b[39m=\u001b[39;49mcancellation_manager))\n\u001b[0;32m   1747\u001b[0m forward_backward \u001b[39m=\u001b[39m \u001b[39mself\u001b[39m\u001b[39m.\u001b[39m_select_forward_and_backward_functions(\n\u001b[0;32m   1748\u001b[0m     args,\n\u001b[0;32m   1749\u001b[0m     possible_gradient_type,\n\u001b[0;32m   1750\u001b[0m     executing_eagerly)\n\u001b[0;32m   1751\u001b[0m forward_function, args_with_tangents \u001b[39m=\u001b[39m forward_backward\u001b[39m.\u001b[39mforward()\n",
      "File \u001b[1;32mc:\\Users\\debon\\AppData\\Local\\Programs\\Python\\Python310\\lib\\site-packages\\tensorflow\\python\\eager\\polymorphic_function\\monomorphic_function.py:378\u001b[0m, in \u001b[0;36m_EagerDefinedFunction.call\u001b[1;34m(self, ctx, args, cancellation_manager)\u001b[0m\n\u001b[0;32m    376\u001b[0m \u001b[39mwith\u001b[39;00m _InterpolateFunctionError(\u001b[39mself\u001b[39m):\n\u001b[0;32m    377\u001b[0m   \u001b[39mif\u001b[39;00m cancellation_manager \u001b[39mis\u001b[39;00m \u001b[39mNone\u001b[39;00m:\n\u001b[1;32m--> 378\u001b[0m     outputs \u001b[39m=\u001b[39m execute\u001b[39m.\u001b[39;49mexecute(\n\u001b[0;32m    379\u001b[0m         \u001b[39mstr\u001b[39;49m(\u001b[39mself\u001b[39;49m\u001b[39m.\u001b[39;49msignature\u001b[39m.\u001b[39;49mname),\n\u001b[0;32m    380\u001b[0m         num_outputs\u001b[39m=\u001b[39;49m\u001b[39mself\u001b[39;49m\u001b[39m.\u001b[39;49m_num_outputs,\n\u001b[0;32m    381\u001b[0m         inputs\u001b[39m=\u001b[39;49margs,\n\u001b[0;32m    382\u001b[0m         attrs\u001b[39m=\u001b[39;49mattrs,\n\u001b[0;32m    383\u001b[0m         ctx\u001b[39m=\u001b[39;49mctx)\n\u001b[0;32m    384\u001b[0m   \u001b[39melse\u001b[39;00m:\n\u001b[0;32m    385\u001b[0m     outputs \u001b[39m=\u001b[39m execute\u001b[39m.\u001b[39mexecute_with_cancellation(\n\u001b[0;32m    386\u001b[0m         \u001b[39mstr\u001b[39m(\u001b[39mself\u001b[39m\u001b[39m.\u001b[39msignature\u001b[39m.\u001b[39mname),\n\u001b[0;32m    387\u001b[0m         num_outputs\u001b[39m=\u001b[39m\u001b[39mself\u001b[39m\u001b[39m.\u001b[39m_num_outputs,\n\u001b[1;32m   (...)\u001b[0m\n\u001b[0;32m    390\u001b[0m         ctx\u001b[39m=\u001b[39mctx,\n\u001b[0;32m    391\u001b[0m         cancellation_manager\u001b[39m=\u001b[39mcancellation_manager)\n",
      "File \u001b[1;32mc:\\Users\\debon\\AppData\\Local\\Programs\\Python\\Python310\\lib\\site-packages\\tensorflow\\python\\eager\\execute.py:52\u001b[0m, in \u001b[0;36mquick_execute\u001b[1;34m(op_name, num_outputs, inputs, attrs, ctx, name)\u001b[0m\n\u001b[0;32m     50\u001b[0m \u001b[39mtry\u001b[39;00m:\n\u001b[0;32m     51\u001b[0m   ctx\u001b[39m.\u001b[39mensure_initialized()\n\u001b[1;32m---> 52\u001b[0m   tensors \u001b[39m=\u001b[39m pywrap_tfe\u001b[39m.\u001b[39;49mTFE_Py_Execute(ctx\u001b[39m.\u001b[39;49m_handle, device_name, op_name,\n\u001b[0;32m     53\u001b[0m                                       inputs, attrs, num_outputs)\n\u001b[0;32m     54\u001b[0m \u001b[39mexcept\u001b[39;00m core\u001b[39m.\u001b[39m_NotOkStatusException \u001b[39mas\u001b[39;00m e:\n\u001b[0;32m     55\u001b[0m   \u001b[39mif\u001b[39;00m name \u001b[39mis\u001b[39;00m \u001b[39mnot\u001b[39;00m \u001b[39mNone\u001b[39;00m:\n",
      "\u001b[1;31mKeyboardInterrupt\u001b[0m: "
     ]
    }
   ],
   "source": [
    "early_stop = EarlyStopping(monitor='val_loss', mode='min', verbose=1, patience=5)\n",
    "\n",
    "# fit the model\n",
    "history = SingleLSTMLayer64.fit(x=padded_train,\n",
    "         y=y_train,\n",
    "         epochs=100,\n",
    "         validation_data=(padded_val, y_val), verbose=1,\n",
    "         callbacks=[early_stop]\n",
    "         )\n",
    "plot_training_graph(history)"
   ]
  },
  {
   "cell_type": "code",
   "execution_count": 75,
   "metadata": {},
   "outputs": [
    {
     "name": "stdout",
     "output_type": "stream",
     "text": [
      "313/313 [==============================] - 4s 10ms/step\n"
     ]
    }
   ],
   "source": [
    "preds_1_lstm_64 = (SingleLSTMLayer64.predict(padded_test) > 0.5).astype(\"int32\")"
   ]
  },
  {
   "cell_type": "code",
   "execution_count": 76,
   "metadata": {},
   "outputs": [
    {
     "name": "stdout",
     "output_type": "stream",
     "text": [
      "Classification Report\n",
      "              precision    recall  f1-score   support\n",
      "\n",
      "           0       0.85      0.87      0.86      5044\n",
      "           1       0.86      0.84      0.85      4956\n",
      "\n",
      "    accuracy                           0.85     10000\n",
      "   macro avg       0.86      0.85      0.85     10000\n",
      "weighted avg       0.86      0.85      0.85     10000\n",
      "\n",
      "Accuracy : 0.8549\n"
     ]
    },
    {
     "data": {
      "text/plain": [
       "0.8549"
      ]
     },
     "execution_count": 76,
     "metadata": {},
     "output_type": "execute_result"
    }
   ],
   "source": [
    "c_report(y_test, preds_1_lstm_64)"
   ]
  },
  {
   "cell_type": "code",
   "execution_count": 77,
   "metadata": {},
   "outputs": [
    {
     "data": {
      "image/png": "[encoded data removed]",
      "text/plain": [
       "<Figure size 640x480 with 1 Axes>"
      ]
     },
     "metadata": {},
     "output_type": "display_data"
    }
   ],
   "source": [
    "plot_confusion_matrix(y_test, preds_1_lstm_64)"
   ]
  },
  {
   "attachments": {},
   "cell_type": "markdown",
   "metadata": {},
   "source": [
    "4. Developing Deep neural networks:\n",
    "\n",
    "    c. 2-layer LSTM model\n"
   ]
  },
  {
   "cell_type": "code",
   "execution_count": 78,
   "metadata": {},
   "outputs": [
    {
     "name": "stdout",
     "output_type": "stream",
     "text": [
      "Model: \"DoubleLSTMLayer64\"\n",
      "_________________________________________________________________\n",
      " Layer (type)                Output Shape              Param #   \n",
      "=================================================================\n",
      " embedding_13 (Embedding)    (None, 64, 256)           35600128  \n",
      "                                                                 \n",
      " lstm_1 (LSTM)               (None, 64, 64)            82176     \n",
      "                                                                 \n",
      " lstm_2 (LSTM)               (None, 64, 32)            12416     \n",
      "                                                                 \n",
      " dense_18 (Dense)            (None, 64, 32)            1056      \n",
      "                                                                 \n",
      " dropout_6 (Dropout)         (None, 64, 32)            0         \n",
      "                                                                 \n",
      " dense_19 (Dense)            (None, 64, 1)             33        \n",
      "                                                                 \n",
      "=================================================================\n",
      "Total params: 35,695,809\n",
      "Trainable params: 35,695,809\n",
      "Non-trainable params: 0\n",
      "_________________________________________________________________\n",
      "None\n"
     ]
    }
   ],
   "source": [
    "# define the model\n",
    "DoubleLSTMLayer64 = Sequential(name=\"DoubleLSTMLayer64\")\n",
    "DoubleLSTMLayer64.add(Embedding(vocab_size, 256, input_length=max_length))\n",
    "DoubleLSTMLayer64.add(LSTM(64, return_sequences=True))\n",
    "DoubleLSTMLayer64.add(LSTM(32, return_sequences=True))\n",
    "DoubleLSTMLayer64.add(Dense(32, activation='relu'))\n",
    "DoubleLSTMLayer64.add(keras.layers.Dropout(0.5))\n",
    "DoubleLSTMLayer64.add(Dense(1, activation='relu'))\n",
    "\n",
    "\n",
    "opt = keras.optimizers.Adam(learning_rate=1e-5)\n",
    "\n",
    "# compile the model\n",
    "DoubleLSTMLayer64.compile(optimizer=opt, loss='binary_crossentropy', metrics=['accuracy'])\n",
    "\n",
    "# summarize the model\n",
    "print(DoubleLSTMLayer64.summary())"
   ]
  },
  {
   "cell_type": "code",
   "execution_count": 79,
   "metadata": {},
   "outputs": [
    {
     "name": "stdout",
     "output_type": "stream",
     "text": [
      "Epoch 1/100\n",
      "1125/1125 [==============================] - 500s 442ms/step - loss: 2.2917 - accuracy: 0.4984 - val_loss: 1.6738 - val_accuracy: 0.5030\n",
      "Epoch 2/100\n",
      "1125/1125 [==============================] - 451s 401ms/step - loss: 1.5603 - accuracy: 0.4984 - val_loss: 1.3432 - val_accuracy: 0.5030\n",
      "Epoch 3/100\n",
      "1125/1125 [==============================] - 435s 387ms/step - loss: 1.2285 - accuracy: 0.4985 - val_loss: 1.0200 - val_accuracy: 0.5030\n",
      "Epoch 4/100\n",
      "  27/1125 [..............................] - ETA: 7:29 - loss: 1.0692 - accuracy: 0.4922"
     ]
    }
   ],
   "source": [
    "early_stop = EarlyStopping(monitor='val_loss', mode='min', verbose=1, patience=5)\n",
    "\n",
    "# fit the model\n",
    "history = DoubleLSTMLayer64.fit(x=padded_train,\n",
    "         y=y_train,\n",
    "         epochs=100,\n",
    "         validation_data=(padded_val, y_val), verbose=1,\n",
    "         callbacks=[early_stop]\n",
    "         )\n",
    "plot_training_graph(history)"
   ]
  },
  {
   "cell_type": "code",
   "execution_count": null,
   "metadata": {},
   "outputs": [
    {
     "name": "stdout",
     "output_type": "stream",
     "text": [
      "313/313 [==============================] - 3s 10ms/step\n"
     ]
    }
   ],
   "source": [
    "preds_2_lstm_64 = (DoubleLSTMLayer64.predict(padded_test) > 0.5).astype(\"int32\")"
   ]
  },
  {
   "cell_type": "code",
   "execution_count": null,
   "metadata": {},
   "outputs": [
    {
     "name": "stdout",
     "output_type": "stream",
     "text": [
      "Classification Report\n",
      "              precision    recall  f1-score   support\n",
      "\n",
      "           0       0.65      0.64      0.64      5044\n",
      "           1       0.64      0.64      0.64      4956\n",
      "\n",
      "    accuracy                           0.64     10000\n",
      "   macro avg       0.64      0.64      0.64     10000\n",
      "weighted avg       0.64      0.64      0.64     10000\n",
      "\n",
      "Accuracy : 0.6421\n"
     ]
    },
    {
     "data": {
      "text/plain": [
       "0.6421"
      ]
     },
     "metadata": {},
     "output_type": "display_data"
    }
   ],
   "source": [
    "c_report(y_test, preds_2_lstm_64)"
   ]
  },
  {
   "cell_type": "code",
   "execution_count": null,
   "metadata": {},
   "outputs": [
    {
     "data": {
      "image/png": "[encoded data removed]",
      "text/plain": [
       "<Figure size 640x480 with 1 Axes>"
      ]
     },
     "metadata": {},
     "output_type": "display_data"
    }
   ],
   "source": [
    "plot_confusion_matrix(y_test, preds_2_lstm_64)"
   ]
  },
  {
   "attachments": {},
   "cell_type": "markdown",
   "metadata": {},
   "source": [
    "4. Developing Deep neural networks:\n",
    "\n",
    "    d. 1-layer Bi-LSTM model\n"
   ]
  },
  {
   "cell_type": "code",
   "execution_count": null,
   "metadata": {},
   "outputs": [
    {
     "name": "stdout",
     "output_type": "stream",
     "text": [
      "Model: \"SimpleRNNModel256\"\n",
      "_________________________________________________________________\n",
      " Layer (type)                Output Shape              Param #   \n",
      "=================================================================\n",
      " embedding_10 (Embedding)    (None, 64, 256)           35600128  \n",
      "                                                                 \n",
      " simple_rnn_10 (SimpleRNN)   (None, 256)               131328    \n",
      "                                                                 \n",
      " dense_14 (Dense)            (None, 256)               65792     \n",
      "                                                                 \n",
      " dropout_4 (Dropout)         (None, 256)               0         \n",
      "                                                                 \n",
      " dense_15 (Dense)            (None, 1)                 257       \n",
      "                                                                 \n",
      "=================================================================\n",
      "Total params: 35,797,505\n",
      "Trainable params: 35,797,505\n",
      "Non-trainable params: 0\n",
      "_________________________________________________________________\n",
      "None\n"
     ]
    }
   ],
   "source": [
    "# define the model\n",
    "SingleBiLSTMModel = Sequential(name=\"SingleBiLSTMModel\")\n",
    "SingleBiLSTMModel.add(Embedding(vocab_size, 256, input_length=max_length))\n",
    "SingleBiLSTMModel.add(Bidirectional(LSTM(64, return_sequences=True)))\n",
    "SingleBiLSTMModel.add(Dense(32, activation='relu'))\n",
    "SingleBiLSTMModel.add(keras.layers.Dropout(0.5))\n",
    "SingleBiLSTMModel.add(Dense(1, activation='relu'))\n",
    "\n",
    "\n",
    "opt = keras.optimizers.Adam(learning_rate=1e-5)\n",
    "\n",
    "# compile the model\n",
    "SingleBiLSTMModel.compile(optimizer=opt, loss='binary_crossentropy', metrics=['accuracy'])\n",
    "\n",
    "# summarize the model\n",
    "print(SingleBiLSTMModel.summary())"
   ]
  },
  {
   "cell_type": "code",
   "execution_count": null,
   "metadata": {},
   "outputs": [
    {
     "name": "stdout",
     "output_type": "stream",
     "text": [
      "Epoch 1/100\n",
      "1125/1125 [==============================] - 514s 456ms/step - loss: 1.8721 - accuracy: 0.5036 - val_loss: 0.7164 - val_accuracy: 0.5128\n",
      "Epoch 2/100\n",
      "1125/1125 [==============================] - 451s 401ms/step - loss: 0.9338 - accuracy: 0.5159 - val_loss: 0.7018 - val_accuracy: 0.5310\n",
      "Epoch 3/100\n",
      "1125/1125 [==============================] - 475s 422ms/step - loss: 0.8536 - accuracy: 0.5385 - val_loss: 0.6928 - val_accuracy: 0.5445\n",
      "Epoch 4/100\n",
      "1125/1125 [==============================] - 476s 423ms/step - loss: 0.7736 - accuracy: 0.5683 - val_loss: 0.6766 - val_accuracy: 0.5742\n",
      "Epoch 5/100\n",
      "1125/1125 [==============================] - 481s 427ms/step - loss: 0.7163 - accuracy: 0.6034 - val_loss: 0.6616 - val_accuracy: 0.6028\n",
      "Epoch 6/100\n",
      "1125/1125 [==============================] - 419s 372ms/step - loss: 0.6339 - accuracy: 0.6693 - val_loss: 0.5937 - val_accuracy: 0.7048\n",
      "Epoch 7/100\n",
      "1125/1125 [==============================] - 472s 420ms/step - loss: 0.5759 - accuracy: 0.7365 - val_loss: 0.5647 - val_accuracy: 0.7398\n",
      "Epoch 8/100\n",
      "1125/1125 [==============================] - 507s 450ms/step - loss: 0.5072 - accuracy: 0.7842 - val_loss: 0.5416 - val_accuracy: 0.7678\n",
      "Epoch 9/100\n",
      "1125/1125 [==============================] - 517s 460ms/step - loss: 0.4723 - accuracy: 0.8145 - val_loss: 0.5448 - val_accuracy: 0.7865\n",
      "Epoch 10/100\n",
      "1125/1125 [==============================] - 472s 420ms/step - loss: 0.3884 - accuracy: 0.8569 - val_loss: 0.5953 - val_accuracy: 0.8018\n",
      "Epoch 11/100\n",
      "1125/1125 [==============================] - 513s 456ms/step - loss: 0.3408 - accuracy: 0.8839 - val_loss: 0.5604 - val_accuracy: 0.8098\n",
      "Epoch 12/100\n",
      "1125/1125 [==============================] - 494s 439ms/step - loss: 0.2944 - accuracy: 0.9024 - val_loss: 0.6748 - val_accuracy: 0.8213\n",
      "Epoch 13/100\n",
      "1125/1125 [==============================] - 461s 409ms/step - loss: 0.3022 - accuracy: 0.9087 - val_loss: 0.6534 - val_accuracy: 0.8220\n",
      "Epoch 14/100\n",
      "1125/1125 [==============================] - 425s 378ms/step - loss: 0.2381 - accuracy: 0.9235 - val_loss: 0.7498 - val_accuracy: 0.8298\n",
      "Epoch 15/100\n",
      "1125/1125 [==============================] - 425s 378ms/step - loss: 0.2342 - accuracy: 0.9402 - val_loss: 0.7121 - val_accuracy: 0.8267\n",
      "Epoch 16/100\n",
      "1125/1125 [==============================] - 425s 378ms/step - loss: 0.1811 - accuracy: 0.9509 - val_loss: 0.9403 - val_accuracy: 0.8340\n",
      "Epoch 17/100\n",
      "1125/1125 [==============================] - 426s 378ms/step - loss: 0.2230 - accuracy: 0.9389 - val_loss: 0.8354 - val_accuracy: 0.8338\n",
      "Epoch 18/100\n",
      "1125/1125 [==============================] - 424s 377ms/step - loss: 0.1934 - accuracy: 0.9425 - val_loss: 0.5388 - val_accuracy: 0.7837\n",
      "Epoch 19/100\n",
      "1125/1125 [==============================] - 426s 378ms/step - loss: 0.1686 - accuracy: 0.9536 - val_loss: 0.7921 - val_accuracy: 0.8390\n",
      "Epoch 20/100\n",
      "1125/1125 [==============================] - 426s 378ms/step - loss: 0.1554 - accuracy: 0.9640 - val_loss: 0.8198 - val_accuracy: 0.8415\n",
      "Epoch 21/100\n",
      "1125/1125 [==============================] - 426s 379ms/step - loss: 0.0987 - accuracy: 0.9780 - val_loss: 0.8647 - val_accuracy: 0.8410\n",
      "Epoch 22/100\n",
      "1125/1125 [==============================] - 425s 377ms/step - loss: 0.0820 - accuracy: 0.9846 - val_loss: 1.0314 - val_accuracy: 0.8403\n",
      "Epoch 23/100\n",
      "1125/1125 [==============================] - 425s 378ms/step - loss: 0.0861 - accuracy: 0.9800 - val_loss: 1.0132 - val_accuracy: 0.8407\n",
      "Epoch 24/100\n",
      "1125/1125 [==============================] - 425s 378ms/step - loss: 0.0610 - accuracy: 0.9900 - val_loss: 1.2186 - val_accuracy: 0.8397\n",
      "Epoch 25/100\n",
      "1125/1125 [==============================] - 424s 377ms/step - loss: 0.0530 - accuracy: 0.9932 - val_loss: 1.2733 - val_accuracy: 0.8380\n",
      "Epoch 26/100\n",
      "1125/1125 [==============================] - 426s 378ms/step - loss: 0.0525 - accuracy: 0.9937 - val_loss: 1.2764 - val_accuracy: 0.8350\n",
      "Epoch 27/100\n",
      "1125/1125 [==============================] - 425s 378ms/step - loss: 0.0430 - accuracy: 0.9959 - val_loss: 1.5543 - val_accuracy: 0.8300\n",
      "Epoch 28/100\n",
      "1125/1125 [==============================] - 426s 379ms/step - loss: 0.0396 - accuracy: 0.9969 - val_loss: 1.6899 - val_accuracy: 0.8282\n",
      "Epoch 28: early stopping\n",
      "dict_keys(['loss', 'accuracy', 'val_loss', 'val_accuracy'])\n"
     ]
    }
   ],
   "source": [
    "early_stop = EarlyStopping(monitor='val_loss', mode='min', verbose=1, patience=5)\n",
    "\n",
    "# fit the model\n",
    "history = DoubleLSTMLayer64.fit(x=padded_train,\n",
    "         y=y_train,\n",
    "         epochs=100,\n",
    "         validation_data=(padded_val, y_val), verbose=1,\n",
    "         callbacks=[early_stop]\n",
    "         )\n",
    "plot_training_graph(history)"
   ]
  },
  {
   "cell_type": "code",
   "execution_count": null,
   "metadata": {},
   "outputs": [
    {
     "name": "stdout",
     "output_type": "stream",
     "text": [
      "313/313 [==============================] - 3s 10ms/step\n"
     ]
    }
   ],
   "source": [
    "preds_2_lstm_64 = (DoubleLSTMLayer64.predict(padded_test) > 0.5).astype(\"int32\")"
   ]
  },
  {
   "cell_type": "code",
   "execution_count": null,
   "metadata": {},
   "outputs": [
    {
     "name": "stdout",
     "output_type": "stream",
     "text": [
      "Classification Report\n",
      "              precision    recall  f1-score   support\n",
      "\n",
      "           0       0.65      0.64      0.64      5044\n",
      "           1       0.64      0.64      0.64      4956\n",
      "\n",
      "    accuracy                           0.64     10000\n",
      "   macro avg       0.64      0.64      0.64     10000\n",
      "weighted avg       0.64      0.64      0.64     10000\n",
      "\n",
      "Accuracy : 0.6421\n"
     ]
    },
    {
     "data": {
      "text/plain": [
       "0.6421"
      ]
     },
     "metadata": {},
     "output_type": "display_data"
    }
   ],
   "source": [
    "c_report(y_test, preds_2_lstm_64)"
   ]
  },
  {
   "cell_type": "code",
   "execution_count": null,
   "metadata": {},
   "outputs": [
    {
     "data": {
      "image/png": "[encoded data removed]",
      "text/plain": [
       "<Figure size 640x480 with 1 Axes>"
      ]
     },
     "metadata": {},
     "output_type": "display_data"
    }
   ],
   "source": [
    "plot_confusion_matrix(y_test, preds_2_lstm_64)"
   ]
  }
 ],
 "metadata": {
  "kernelspec": {
   "display_name": "Python 3",
   "language": "python",
   "name": "python3"
  },
  "language_info": {
   "codemirror_mode": {
    "name": "ipython",
    "version": 3
   },
   "file_extension": ".py",
   "mimetype": "text/x-python",
   "name": "python",
   "nbconvert_exporter": "python",
   "pygments_lexer": "ipython3",
   "version": "3.10.7"
  },
  "orig_nbformat": 4,
  "vscode": {
   "interpreter": {
    "hash": "c4ae7141c631147330982ab03a122191846cf83f5ea8efac7ef9984176873ce7"
   }
  }
 },
 "nbformat": 4,
 "nbformat_minor": 2
}
