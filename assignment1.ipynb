{
 "cells": [
  {
   "cell_type": "code",
   "execution_count": 1,
   "metadata": {},
   "outputs": [],
   "source": [
    "import pandas as pd\n",
    "from sklearn.model_selection import train_test_split\n",
    "from sklearn.feature_extraction.text import CountVectorizer, TfidfVectorizer\n",
    "from sklearn.tree import DecisionTreeClassifier\n",
    "from sklearn.naive_bayes import MultinomialNB\n",
    "from sklearn.metrics import accuracy_score\n",
    "import matplotlib.pyplot as plt\n",
    "import numpy as np"
   ]
  },
  {
   "cell_type": "code",
   "execution_count": 2,
   "metadata": {},
   "outputs": [
    {
     "name": "stdout",
     "output_type": "stream",
     "text": [
      "                                                  review sentiment\n",
      "0      One of the other reviewers has mentioned that ...  positive\n",
      "1      A wonderful little production. <br /><br />The...  positive\n",
      "2      I thought this was a wonderful way to spend ti...  positive\n",
      "3      Basically there's a family where a little boy ...  negative\n",
      "4      Petter Mattei's \"Love in the Time of Money\" is...  positive\n",
      "...                                                  ...       ...\n",
      "49995  I thought this movie did a down right good job...  positive\n",
      "49996  Bad plot, bad dialogue, bad acting, idiotic di...  negative\n",
      "49997  I am a Catholic taught in parochial elementary...  negative\n",
      "49998  I'm going to have to disagree with the previou...  negative\n",
      "49999  No one expects the Star Trek movies to be high...  negative\n",
      "\n",
      "[50000 rows x 2 columns]\n"
     ]
    }
   ],
   "source": [
    "data = pd.read_csv('downloads/IMDB Dataset.csv')\n",
    "\n",
    "print(data)"
   ]
  },
  {
   "cell_type": "code",
   "execution_count": 3,
   "metadata": {},
   "outputs": [],
   "source": [
    "sentiments = data['sentiment']\n",
    "sentiments = sentiments.replace({\"positive\": 1, \"negative\": 0})"
   ]
  },
  {
   "attachments": {},
   "cell_type": "markdown",
   "metadata": {},
   "source": [
    "2.Define a text preprocessing pipeline, i.e., stopword removal, lower casing, punctuation removal etc\n",
    "1.Define your own train-val-test split. Ratio : (train: 18: test : 5 , val : 2)"
   ]
  },
  {
   "cell_type": "code",
   "execution_count": 4,
   "metadata": {},
   "outputs": [
    {
     "name": "stderr",
     "output_type": "stream",
     "text": [
      "[nltk_data] Downloading package stopwords to\n",
      "[nltk_data]     C:\\Users\\debon\\AppData\\Roaming\\nltk_data...\n",
      "[nltk_data]   Package stopwords is already up-to-date!\n"
     ]
    }
   ],
   "source": [
    "import nltk\n",
    "import re\n",
    "nltk.download('stopwords')\n",
    "\n",
    "from nltk.corpus import stopwords \n",
    "REPLACE_BY_SPACE_RE = re.compile('[/(){}\\[\\]\\|@,;]')\n",
    "BAD_SYMBOLS_RE = re.compile('[^0-9a-z #+_]')\n",
    "STOPWORDS = set(stopwords.words('english'))\n",
    "\n",
    "def clean_text(text):\n",
    "    text = text.lower() \n",
    "    text = REPLACE_BY_SPACE_RE.sub(' ', text) \n",
    "    text = BAD_SYMBOLS_RE.sub('', text) \n",
    "    text = text.replace('x', '')\n",
    "    text = text.replace('\\d+', '')\n",
    "    \n",
    "#    text = re.sub(r'\\W+', '', text)\n",
    "    text = ' '.join(word for word in text.split() if word not in STOPWORDS) # remove stopwors from text\n",
    "    return text\n",
    "\n",
    "reviews =data['review'].apply(clean_text)\n"
   ]
  },
  {
   "cell_type": "code",
   "execution_count": 5,
   "metadata": {},
   "outputs": [],
   "source": [
    "X_train, X_test, y_train, y_test = train_test_split(reviews,sentiments,test_size=0.2, random_state=1)\n",
    "X_train,X_val, y_train, y_val =train_test_split(X_train, y_train,test_size=0.1, random_state=1 )"
   ]
  },
  {
   "cell_type": "code",
   "execution_count": 6,
   "metadata": {},
   "outputs": [
    {
     "name": "stdout",
     "output_type": "stream",
     "text": [
      "(10000,)\n",
      "(36000,)\n",
      "(4000,)\n"
     ]
    }
   ],
   "source": [
    "print(X_test.shape)\n",
    "print(X_train.shape)\n",
    "print(X_val.shape)"
   ]
  },
  {
   "attachments": {},
   "cell_type": "markdown",
   "metadata": {},
   "source": [
    "Developing ML methods:\n",
    "1. Model a Naive Bayes classifier.\n",
    "a. Count vectorizer features.\n",
    "b. TF-IDF features.\n"
   ]
  },
  {
   "cell_type": "code",
   "execution_count": 7,
   "metadata": {},
   "outputs": [],
   "source": [
    "vectorizer = CountVectorizer()\n",
    "X_train_count = vectorizer.fit_transform(X_train)\n",
    "clf = MultinomialNB()\n",
    "clf.fit(X_train_count, y_train)\n",
    "\n",
    "X_test_count = vectorizer.transform(X_test)\n",
    "y_pred = clf.predict(X_test_count)\n",
    "accuracy = accuracy_score(y_test, y_pred)\n"
   ]
  },
  {
   "cell_type": "code",
   "execution_count": 8,
   "metadata": {},
   "outputs": [
    {
     "name": "stdout",
     "output_type": "stream",
     "text": [
      "86.16\n"
     ]
    }
   ],
   "source": [
    "print(accuracy*100)"
   ]
  },
  {
   "cell_type": "code",
   "execution_count": 9,
   "metadata": {},
   "outputs": [],
   "source": [
    "vectorizer = TfidfVectorizer()\n",
    "X_train_tfidf = vectorizer.fit_transform(X_train)\n",
    "\n",
    "clf = MultinomialNB()\n",
    "clf.fit(X_train_tfidf, y_train)\n",
    "\n",
    "X_test_tfidf = vectorizer.transform(X_test)\n",
    "y_pred = clf.predict(X_test_tfidf)\n",
    "accuracy_tfidf = accuracy_score(y_test, y_pred)"
   ]
  },
  {
   "cell_type": "code",
   "execution_count": 10,
   "metadata": {},
   "outputs": [
    {
     "name": "stdout",
     "output_type": "stream",
     "text": [
      "86.91\n"
     ]
    }
   ],
   "source": [
    "print(accuracy_tfidf*100)"
   ]
  },
  {
   "attachments": {},
   "cell_type": "markdown",
   "metadata": {},
   "source": [
    "3. ii ) Model a decision tree with TF-IDF features"
   ]
  },
  {
   "cell_type": "code",
   "execution_count": 11,
   "metadata": {},
   "outputs": [],
   "source": [
    "clf = DecisionTreeClassifier()\n",
    "clf.fit(X_train_tfidf, y_train)\n",
    "y_pred = clf.predict(X_test_tfidf)\n",
    "accuracy_dec = accuracy_score(y_test, y_pred)"
   ]
  },
  {
   "cell_type": "code",
   "execution_count": 12,
   "metadata": {},
   "outputs": [
    {
     "name": "stdout",
     "output_type": "stream",
     "text": [
      "71.74000000000001\n"
     ]
    }
   ],
   "source": [
    "print(accuracy_dec*100)"
   ]
  },
  {
   "attachments": {},
   "cell_type": "markdown",
   "metadata": {},
   "source": [
    "4. Developing Deep neural networks:\n",
    "\n",
    "    a. RNN model.\n",
    "    \n",
    "      1. 64 hidden-vector dimension.\n"
   ]
  },
  {
   "cell_type": "code",
   "execution_count": 29,
   "metadata": {},
   "outputs": [],
   "source": [
    "# helps in model building\n",
    "from tensorflow import keras\n",
    "from keras.models import Sequential\n",
    "from keras.layers import Dense\n",
    "from keras.layers import SimpleRNN\n",
    "from keras.layers import InputLayer\n",
    "from keras.layers import Flatten\n",
    "from keras.layers import Dropout\n",
    "from keras.layers import Embedding\n",
    "from keras.callbacks import EarlyStopping"
   ]
  },
  {
   "cell_type": "code",
   "execution_count": 14,
   "metadata": {},
   "outputs": [],
   "source": [
    "# helps in text preprocessing\n",
    "from keras.utils import pad_sequences\n",
    "from keras.preprocessing.text import Tokenizer\n",
    "\n",
    "t = Tokenizer()\n",
    "t.fit_on_texts(X_train)"
   ]
  },
  {
   "cell_type": "code",
   "execution_count": 15,
   "metadata": {},
   "outputs": [
    {
     "name": "stdout",
     "output_type": "stream",
     "text": [
      "[[1148, 3671, 9852, 849, 1119, 376, 21997, 51, 34614, 1639, 58, 93, 89, 1417, 3587, 536, 1739, 2053, 23070, 1246, 68414, 17410, 1701, 90, 13784, 2988, 1, 21, 42, 63, 4406, 4239, 136, 5, 10514, 52, 86, 70, 21998, 1601, 51, 86, 6, 2, 521, 700, 81, 415, 2325, 921, 3, 158, 921, 104, 511, 13, 13, 45], [14, 255, 4966, 3760, 10326, 345, 42, 99, 1588, 14928, 2471, 40, 496, 38398, 126, 6151, 2374, 162, 155, 1155, 3207, 124, 395, 78, 337, 13161, 5, 39, 1848, 3461, 43767, 22, 1853, 9252, 1, 124, 61, 42, 128, 817, 2149, 187, 719, 468, 151, 145, 44, 419, 54, 817, 416, 42, 735, 7, 3497, 5, 369, 596, 21022, 1015, 51982, 1, 42, 183, 821, 2919, 14, 5, 249, 68415, 1002, 8612, 6208, 54, 817, 2567, 5, 1890, 50, 7968, 250, 4101, 2316, 54, 685, 335, 12584, 1, 1716, 99, 1525, 1616, 409, 70, 118, 108, 1442, 266, 187, 12306, 6387, 77, 127, 8494, 2283, 298, 2132, 12306, 37, 1566, 5268, 43768, 304, 68416, 4223, 817, 1008, 1222, 1027, 97, 15, 1483, 56, 94, 176, 409, 1303, 42, 12584, 1, 11, 441, 354, 47, 5311, 104, 21, 96, 497, 104, 293, 134, 34615, 19373, 2752, 1246, 29, 94, 481, 331, 447, 13, 45, 2665, 26, 2, 68417, 79, 4575, 1616, 198, 34616, 2579, 1, 4, 294, 147, 24, 102, 44, 33, 235, 75, 610, 592, 52, 779, 68418, 488, 254, 42, 54, 809]]\n"
     ]
    }
   ],
   "source": [
    "encoded_train = t.texts_to_sequences(X_train)\n",
    "encoded_test = t.texts_to_sequences(X_test)\n",
    "encoded_val = t.texts_to_sequences(X_val)\n",
    "print(encoded_train[0:2])"
   ]
  },
  {
   "cell_type": "code",
   "execution_count": 16,
   "metadata": {},
   "outputs": [
    {
     "name": "stdout",
     "output_type": "stream",
     "text": [
      "[[  1148   3671   9852 ...      0      0      0]\n",
      " [    97     15   1483 ...     42     54    809]\n",
      " [ 43769   7556    490 ...    258     47  68421]\n",
      " ...\n",
      " [    47   3480      4 ...   1285   1347   2052]\n",
      " [  3017   3017 139062 ...   8505  20062    503]\n",
      " [   110   1339   5355 ...      0      0      0]]\n"
     ]
    }
   ],
   "source": [
    "max_length = 64\n",
    "padded_train = pad_sequences(encoded_train, maxlen=max_length, padding='post')\n",
    "padded_test = pad_sequences(encoded_test, maxlen=max_length, padding='post')\n",
    "padded_val = pad_sequences(encoded_val, maxlen=max_length, padding='post')\n",
    "print(padded_train)"
   ]
  },
  {
   "cell_type": "code",
   "execution_count": 45,
   "metadata": {},
   "outputs": [
    {
     "name": "stdout",
     "output_type": "stream",
     "text": [
      "Model: \"SimpleRNNModel64\"\n",
      "_________________________________________________________________\n",
      " Layer (type)                Output Shape              Param #   \n",
      "=================================================================\n",
      " embedding_6 (Embedding)     (None, 64, 64)            8900032   \n",
      "                                                                 \n",
      " simple_rnn_6 (SimpleRNN)    (None, 64)                8256      \n",
      "                                                                 \n",
      " dense_6 (Dense)             (None, 64)                4160      \n",
      "                                                                 \n",
      " dropout (Dropout)           (None, 64)                0         \n",
      "                                                                 \n",
      " dense_7 (Dense)             (None, 1)                 65        \n",
      "                                                                 \n",
      "=================================================================\n",
      "Total params: 8,912,513\n",
      "Trainable params: 8,912,513\n",
      "Non-trainable params: 0\n",
      "_________________________________________________________________\n",
      "None\n"
     ]
    }
   ],
   "source": [
    "vocab_size = len(t.word_index) + 1\n",
    "# define the model\n",
    "RNNModel64 = Sequential(name=\"SimpleRNNModel64\")\n",
    "RNNModel64.add(Embedding(vocab_size, 64, input_length=max_length))\n",
    "RNNModel64.add(SimpleRNN(64, return_sequences=False))\n",
    "RNNModel64.add(Dense(64, activation='relu'))\n",
    "RNNModel64.add(keras.layers.Dropout(0.5))\n",
    "RNNModel64.add(Dense(1, activation='relu'))\n",
    "\n",
    "\n",
    "opt = keras.optimizers.Adam(1e-5)\n",
    "\n",
    "# compile the model\n",
    "RNNModel64.compile(optimizer=opt, loss='binary_crossentropy', metrics=['accuracy'])\n",
    "\n",
    "# summarize the model\n",
    "print(RNNModel64.summary())"
   ]
  },
  {
   "cell_type": "code",
   "execution_count": 46,
   "metadata": {},
   "outputs": [],
   "source": [
    "def plot_training_graph(history):\n",
    "    # list all data in history\n",
    "    print(history.history.keys())\n",
    "    # summarize history for accuracy\n",
    "    plt.plot(history.history['accuracy'])\n",
    "    plt.plot(history.history['val_accuracy'])\n",
    "    plt.title('model accuracy')\n",
    "    plt.ylabel('accuracy')\n",
    "    plt.xlabel('epoch')\n",
    "    plt.legend(['train', 'test'], loc='upper left')\n",
    "    plt.show()\n",
    "    # summarize history for loss\n",
    "    plt.plot(history.history['loss'])\n",
    "    plt.plot(history.history['val_loss'])\n",
    "    plt.title('model loss')\n",
    "    plt.ylabel('loss')\n",
    "    plt.xlabel('epoch')\n",
    "    plt.legend(['train', 'test'], loc='upper left')\n",
    "    plt.show()"
   ]
  },
  {
   "cell_type": "code",
   "execution_count": 47,
   "metadata": {},
   "outputs": [
    {
     "name": "stdout",
     "output_type": "stream",
     "text": [
      "Epoch 1/100\n",
      "1125/1125 [==============================] - 115s 101ms/step - loss: 2.5126 - accuracy: 0.5008 - val_loss: 0.7675 - val_accuracy: 0.5063\n",
      "Epoch 2/100\n",
      "1125/1125 [==============================] - 113s 101ms/step - loss: 0.9826 - accuracy: 0.5072 - val_loss: 0.7182 - val_accuracy: 0.5002\n",
      "Epoch 3/100\n",
      "1125/1125 [==============================] - 118s 105ms/step - loss: 0.9051 - accuracy: 0.5122 - val_loss: 0.7187 - val_accuracy: 0.5038\n",
      "Epoch 4/100\n",
      "1125/1125 [==============================] - 144s 128ms/step - loss: 0.8719 - accuracy: 0.5154 - val_loss: 0.7069 - val_accuracy: 0.5060\n",
      "Epoch 5/100\n",
      "1125/1125 [==============================] - 151s 134ms/step - loss: 0.8503 - accuracy: 0.5225 - val_loss: 0.7049 - val_accuracy: 0.5085\n",
      "Epoch 6/100\n",
      "1125/1125 [==============================] - 115s 102ms/step - loss: 0.8081 - accuracy: 0.5312 - val_loss: 0.7008 - val_accuracy: 0.5157\n",
      "Epoch 7/100\n",
      "1125/1125 [==============================] - 114s 101ms/step - loss: 0.7954 - accuracy: 0.5314 - val_loss: 0.6935 - val_accuracy: 0.5270\n",
      "Epoch 8/100\n",
      "1125/1125 [==============================] - 114s 101ms/step - loss: 0.7600 - accuracy: 0.5473 - val_loss: 0.6934 - val_accuracy: 0.5320\n",
      "Epoch 9/100\n",
      "1125/1125 [==============================] - 116s 103ms/step - loss: 0.7426 - accuracy: 0.5521 - val_loss: 0.6877 - val_accuracy: 0.5497\n",
      "Epoch 10/100\n",
      "1125/1125 [==============================] - 115s 102ms/step - loss: 0.7159 - accuracy: 0.5743 - val_loss: 0.6748 - val_accuracy: 0.5675\n",
      "Epoch 11/100\n",
      "1125/1125 [==============================] - 115s 102ms/step - loss: 0.6899 - accuracy: 0.5982 - val_loss: 0.6572 - val_accuracy: 0.5997\n",
      "Epoch 12/100\n",
      "1125/1125 [==============================] - 115s 102ms/step - loss: 0.6477 - accuracy: 0.6358 - val_loss: 0.6407 - val_accuracy: 0.6378\n",
      "Epoch 13/100\n",
      "1125/1125 [==============================] - 114s 101ms/step - loss: 0.6260 - accuracy: 0.6584 - val_loss: 0.6154 - val_accuracy: 0.6705\n",
      "Epoch 14/100\n",
      "1125/1125 [==============================] - 114s 101ms/step - loss: 0.5840 - accuracy: 0.6859 - val_loss: 0.6183 - val_accuracy: 0.7088\n",
      "Epoch 15/100\n",
      "1125/1125 [==============================] - 114s 101ms/step - loss: 0.5430 - accuracy: 0.7214 - val_loss: 0.6069 - val_accuracy: 0.7368\n",
      "Epoch 16/100\n",
      "1125/1125 [==============================] - 114s 102ms/step - loss: 0.5150 - accuracy: 0.7511 - val_loss: 0.6172 - val_accuracy: 0.7577\n",
      "Epoch 17/100\n",
      "1125/1125 [==============================] - 114s 102ms/step - loss: 0.4831 - accuracy: 0.7776 - val_loss: 0.5790 - val_accuracy: 0.7705\n",
      "Epoch 18/100\n",
      "1125/1125 [==============================] - 112s 99ms/step - loss: 0.4501 - accuracy: 0.7905 - val_loss: 0.6048 - val_accuracy: 0.7747\n",
      "Epoch 19/100\n",
      "1125/1125 [==============================] - 114s 102ms/step - loss: 0.4239 - accuracy: 0.8108 - val_loss: 0.6593 - val_accuracy: 0.7765\n",
      "Epoch 20/100\n",
      "1125/1125 [==============================] - 123s 109ms/step - loss: 0.4119 - accuracy: 0.8295 - val_loss: 0.5985 - val_accuracy: 0.7947\n",
      "Epoch 21/100\n",
      "1125/1125 [==============================] - 137s 121ms/step - loss: 0.3891 - accuracy: 0.8409 - val_loss: 0.5697 - val_accuracy: 0.8010\n",
      "Epoch 22/100\n",
      "1125/1125 [==============================] - 115s 102ms/step - loss: 0.3621 - accuracy: 0.8572 - val_loss: 0.6256 - val_accuracy: 0.8035\n",
      "Epoch 23/100\n",
      "1125/1125 [==============================] - 114s 102ms/step - loss: 0.3414 - accuracy: 0.8723 - val_loss: 0.6505 - val_accuracy: 0.8092\n",
      "Epoch 24/100\n",
      "1125/1125 [==============================] - 115s 102ms/step - loss: 0.3235 - accuracy: 0.8881 - val_loss: 0.5988 - val_accuracy: 0.8140\n",
      "Epoch 25/100\n",
      "1125/1125 [==============================] - 115s 102ms/step - loss: 0.3057 - accuracy: 0.8991 - val_loss: 0.6806 - val_accuracy: 0.8205\n",
      "Epoch 26/100\n",
      "1125/1125 [==============================] - 115s 102ms/step - loss: 0.2850 - accuracy: 0.9039 - val_loss: 0.6479 - val_accuracy: 0.8220\n",
      "Epoch 27/100\n",
      "1125/1125 [==============================] - 118s 105ms/step - loss: 0.2652 - accuracy: 0.9167 - val_loss: 0.7313 - val_accuracy: 0.8240\n",
      "Epoch 28/100\n",
      "1125/1125 [==============================] - 115s 102ms/step - loss: 0.2608 - accuracy: 0.9217 - val_loss: 0.6692 - val_accuracy: 0.8188\n",
      "Epoch 29/100\n",
      "1125/1125 [==============================] - 116s 103ms/step - loss: 0.2317 - accuracy: 0.9235 - val_loss: 0.5881 - val_accuracy: 0.8282\n",
      "Epoch 30/100\n",
      "1125/1125 [==============================] - 114s 102ms/step - loss: 0.2228 - accuracy: 0.9402 - val_loss: 0.7372 - val_accuracy: 0.8267\n",
      "Epoch 31/100\n",
      "1125/1125 [==============================] - 115s 102ms/step - loss: 0.2106 - accuracy: 0.9454 - val_loss: 0.8328 - val_accuracy: 0.8300\n",
      "Epoch 31: early stopping\n",
      "dict_keys(['loss', 'accuracy', 'val_loss', 'val_accuracy'])\n"
     ]
    },
    {
     "data": {
      "image/png": "[encoded data removed]",
      "text/plain": [
       "<Figure size 640x480 with 1 Axes>"
      ]
     },
     "metadata": {},
     "output_type": "display_data"
    },
    {
     "data": {
      "image/png": "[encoded data removed]",
      "text/plain": [
       "<Figure size 640x480 with 1 Axes>"
      ]
     },
     "metadata": {},
     "output_type": "display_data"
    }
   ],
   "source": [
    "early_stop = EarlyStopping(monitor='val_loss', mode='min', verbose=1, patience=10)\n",
    "\n",
    "# fit the model\n",
    "history = RNNModel64.fit(x=padded_train,\n",
    "         y=y_train,\n",
    "         epochs=100,\n",
    "         validation_data=(padded_val, y_val), verbose=1,\n",
    "         callbacks=[early_stop]\n",
    "         )\n",
    "plot_training_graph(history)"
   ]
  },
  {
   "cell_type": "code",
   "execution_count": 54,
   "metadata": {},
   "outputs": [],
   "source": [
    "from sklearn.metrics import classification_report, confusion_matrix, accuracy_score\n",
    "\n",
    "import matplotlib.pyplot as plt\n",
    "import seaborn as sns\n",
    "\n",
    "def c_report(y_true, y_pred):\n",
    "   print(\"Classification Report\")\n",
    "   print(classification_report(y_true, y_pred))\n",
    "   acc_sc = accuracy_score(y_true, y_pred)\n",
    "   print(\"Accuracy : \"+ str(acc_sc))\n",
    "   return acc_sc\n",
    "\n",
    "def plot_confusion_matrix(y_true, y_pred):\n",
    "   mtx = confusion_matrix(y_true, y_pred)\n",
    "   sns.heatmap(mtx, annot=True, fmt='d', linewidths=.5, \n",
    "               cmap=\"Blues\", cbar=False)\n",
    "   plt.ylabel('True label')\n",
    "   plt.xlabel('Predicted label')"
   ]
  },
  {
   "cell_type": "code",
   "execution_count": 55,
   "metadata": {},
   "outputs": [
    {
     "name": "stdout",
     "output_type": "stream",
     "text": [
      "313/313 [==============================] - 1s 3ms/step\n"
     ]
    }
   ],
   "source": [
    "preds_rnn_64 = (RNNModel64.predict(padded_test) > 0.5).astype(\"int32\")"
   ]
  },
  {
   "cell_type": "code",
   "execution_count": 56,
   "metadata": {},
   "outputs": [
    {
     "name": "stdout",
     "output_type": "stream",
     "text": [
      "Classification Report\n",
      "              precision    recall  f1-score   support\n",
      "\n",
      "           0       0.85      0.83      0.84      5044\n",
      "           1       0.83      0.85      0.84      4956\n",
      "\n",
      "    accuracy                           0.84     10000\n",
      "   macro avg       0.84      0.84      0.84     10000\n",
      "weighted avg       0.84      0.84      0.84     10000\n",
      "\n",
      "Accuracy : 0.8398\n"
     ]
    },
    {
     "data": {
      "text/plain": [
       "0.8398"
      ]
     },
     "execution_count": 56,
     "metadata": {},
     "output_type": "execute_result"
    }
   ],
   "source": [
    "c_report(y_test, preds_rnn_64)"
   ]
  },
  {
   "cell_type": "code",
   "execution_count": 57,
   "metadata": {},
   "outputs": [
    {
     "data": {
      "image/png": "[encoded data removed]",
      "text/plain": [
       "<Figure size 640x480 with 1 Axes>"
      ]
     },
     "metadata": {},
     "output_type": "display_data"
    }
   ],
   "source": [
    "plot_confusion_matrix(y_test, preds_rnn_64)"
   ]
  },
  {
   "attachments": {},
   "cell_type": "markdown",
   "metadata": {},
   "source": [
    "4. Developing Deep neural networks:\n",
    "\n",
    "    a. RNN model.\n",
    "    \n",
    "      2. 256 hidden-vector dimension.\n"
   ]
  },
  {
   "cell_type": "code",
   "execution_count": 63,
   "metadata": {},
   "outputs": [
    {
     "name": "stdout",
     "output_type": "stream",
     "text": [
      "Model: \"SimpleRNNModel256\"\n",
      "_________________________________________________________________\n",
      " Layer (type)                Output Shape              Param #   \n",
      "=================================================================\n",
      " embedding_10 (Embedding)    (None, 64, 256)           35600128  \n",
      "                                                                 \n",
      " simple_rnn_10 (SimpleRNN)   (None, 256)               131328    \n",
      "                                                                 \n",
      " dense_14 (Dense)            (None, 256)               65792     \n",
      "                                                                 \n",
      " dropout_4 (Dropout)         (None, 256)               0         \n",
      "                                                                 \n",
      " dense_15 (Dense)            (None, 1)                 257       \n",
      "                                                                 \n",
      "=================================================================\n",
      "Total params: 35,797,505\n",
      "Trainable params: 35,797,505\n",
      "Non-trainable params: 0\n",
      "_________________________________________________________________\n",
      "None\n"
     ]
    }
   ],
   "source": [
    "# define the model\n",
    "RNNModel256 = Sequential(name=\"SimpleRNNModel256\")\n",
    "RNNModel256.add(Embedding(vocab_size, 256, input_length=max_length))\n",
    "RNNModel256.add(SimpleRNN(256, return_sequences=False))\n",
    "RNNModel256.add(Dense(256, activation='relu'))\n",
    "RNNModel256.add(keras.layers.Dropout(0.5))\n",
    "RNNModel256.add(Dense(1, activation='relu'))\n",
    "\n",
    "\n",
    "opt = keras.optimizers.Adam(learning_rate=1e-5)\n",
    "\n",
    "# compile the model\n",
    "RNNModel256.compile(optimizer=opt, loss='binary_crossentropy', metrics=['accuracy'])\n",
    "\n",
    "# summarize the model\n",
    "print(RNNModel256.summary())"
   ]
  },
  {
   "cell_type": "code",
   "execution_count": 64,
   "metadata": {},
   "outputs": [
    {
     "name": "stdout",
     "output_type": "stream",
     "text": [
      "Epoch 1/100\n",
      "1125/1125 [==============================] - 514s 456ms/step - loss: 1.8721 - accuracy: 0.5036 - val_loss: 0.7164 - val_accuracy: 0.5128\n",
      "Epoch 2/100\n",
      "1125/1125 [==============================] - 451s 401ms/step - loss: 0.9338 - accuracy: 0.5159 - val_loss: 0.7018 - val_accuracy: 0.5310\n",
      "Epoch 3/100\n",
      "1125/1125 [==============================] - 475s 422ms/step - loss: 0.8536 - accuracy: 0.5385 - val_loss: 0.6928 - val_accuracy: 0.5445\n",
      "Epoch 4/100\n",
      "1125/1125 [==============================] - ETA: 0s - loss: 0.7736 - accuracy: 0.5683"
     ]
    }
   ],
   "source": [
    "early_stop = EarlyStopping(monitor='val_loss', mode='min', verbose=1, patience=10)\n",
    "\n",
    "# fit the model\n",
    "history = RNNModel256.fit(x=padded_train,\n",
    "         y=y_train,\n",
    "         epochs=100,\n",
    "         validation_data=(padded_val, y_val), verbose=1,\n",
    "         callbacks=[early_stop]\n",
    "         )\n",
    "plot_training_graph(history)"
   ]
  },
  {
   "cell_type": "code",
   "execution_count": null,
   "metadata": {},
   "outputs": [
    {
     "name": "stdout",
     "output_type": "stream",
     "text": [
      "313/313 [==============================] - 3s 10ms/step\n"
     ]
    }
   ],
   "source": [
    "preds_rnn_256 = (RNNModel256.predict(padded_test) > 0.5).astype(\"int32\")"
   ]
  },
  {
   "cell_type": "code",
   "execution_count": null,
   "metadata": {},
   "outputs": [
    {
     "name": "stdout",
     "output_type": "stream",
     "text": [
      "Classification Report\n",
      "              precision    recall  f1-score   support\n",
      "\n",
      "           0       0.65      0.64      0.64      5044\n",
      "           1       0.64      0.64      0.64      4956\n",
      "\n",
      "    accuracy                           0.64     10000\n",
      "   macro avg       0.64      0.64      0.64     10000\n",
      "weighted avg       0.64      0.64      0.64     10000\n",
      "\n",
      "Accuracy : 0.6421\n"
     ]
    },
    {
     "data": {
      "text/plain": [
       "0.6421"
      ]
     },
     "execution_count": 34,
     "metadata": {},
     "output_type": "execute_result"
    }
   ],
   "source": [
    "c_report(y_test, preds_rnn_256)"
   ]
  },
  {
   "cell_type": "code",
   "execution_count": null,
   "metadata": {},
   "outputs": [
    {
     "data": {
      "image/png": "[encoded data removed]",
      "text/plain": [
       "<Figure size 640x480 with 1 Axes>"
      ]
     },
     "metadata": {},
     "output_type": "display_data"
    }
   ],
   "source": [
    "plot_confusion_matrix(y_test, preds_rnn_256)"
   ]
  },
  {
   "attachments": {},
   "cell_type": "markdown",
   "metadata": {},
   "source": [
    "4. Developing Deep neural networks:\n",
    "\n",
    "    b. 1-layer LSTM model\n"
   ]
  },
  {
   "cell_type": "code",
   "execution_count": null,
   "metadata": {},
   "outputs": [
    {
     "name": "stdout",
     "output_type": "stream",
     "text": [
      "Model: \"SimpleRNNModel256\"\n",
      "_________________________________________________________________\n",
      " Layer (type)                Output Shape              Param #   \n",
      "=================================================================\n",
      " embedding_10 (Embedding)    (None, 64, 256)           35600128  \n",
      "                                                                 \n",
      " simple_rnn_10 (SimpleRNN)   (None, 256)               131328    \n",
      "                                                                 \n",
      " dense_14 (Dense)            (None, 256)               65792     \n",
      "                                                                 \n",
      " dropout_4 (Dropout)         (None, 256)               0         \n",
      "                                                                 \n",
      " dense_15 (Dense)            (None, 1)                 257       \n",
      "                                                                 \n",
      "=================================================================\n",
      "Total params: 35,797,505\n",
      "Trainable params: 35,797,505\n",
      "Non-trainable params: 0\n",
      "_________________________________________________________________\n",
      "None\n"
     ]
    }
   ],
   "source": [
    "# define the model\n",
    "SingleLSTMLayer64 = Sequential(name=\"SingleLSTMLayer64\")\n",
    "SingleLSTMLayer64.add(Embedding(vocab_size, 256, input_length=max_length))\n",
    "SingleLSTMLayer64.add(LSTM(64, return_sequences=False))\n",
    "SingleLSTMLayer64.add(Dense(64, activation='relu'))\n",
    "SingleLSTMLayer64.add(keras.layers.Dropout(0.5))\n",
    "SingleLSTMLayer64.add(Dense(1, activation='relu'))\n",
    "\n",
    "\n",
    "opt = keras.optimizers.Adam(learning_rate=1e-5)\n",
    "\n",
    "# compile the model\n",
    "SingleLSTMLayer64.compile(optimizer=opt, loss='binary_crossentropy', metrics=['accuracy'])\n",
    "\n",
    "# summarize the model\n",
    "print(SingleLSTMLayer64.summary())"
   ]
  },
  {
   "cell_type": "code",
   "execution_count": null,
   "metadata": {},
   "outputs": [
    {
     "name": "stdout",
     "output_type": "stream",
     "text": [
      "Epoch 1/100\n",
      "1125/1125 [==============================] - 514s 456ms/step - loss: 1.8721 - accuracy: 0.5036 - val_loss: 0.7164 - val_accuracy: 0.5128\n",
      "Epoch 2/100\n",
      "1125/1125 [==============================] - 451s 401ms/step - loss: 0.9338 - accuracy: 0.5159 - val_loss: 0.7018 - val_accuracy: 0.5310\n",
      "Epoch 3/100\n",
      "1125/1125 [==============================] - 475s 422ms/step - loss: 0.8536 - accuracy: 0.5385 - val_loss: 0.6928 - val_accuracy: 0.5445\n",
      "Epoch 4/100\n",
      "1125/1125 [==============================] - ETA: 0s - loss: 0.7736 - accuracy: 0.5683"
     ]
    }
   ],
   "source": [
    "early_stop = EarlyStopping(monitor='val_loss', mode='min', verbose=1, patience=10)\n",
    "\n",
    "# fit the model\n",
    "history = SingleLSTMLayer64.fit(x=padded_train,\n",
    "         y=y_train,\n",
    "         epochs=100,\n",
    "         validation_data=(padded_val, y_val), verbose=1,\n",
    "         callbacks=[early_stop]\n",
    "         )\n",
    "plot_training_graph(history)"
   ]
  },
  {
   "cell_type": "code",
   "execution_count": null,
   "metadata": {},
   "outputs": [
    {
     "name": "stdout",
     "output_type": "stream",
     "text": [
      "313/313 [==============================] - 3s 10ms/step\n"
     ]
    }
   ],
   "source": [
    "preds_1_lstm_64 = (SingleLSTMLayer64.predict(padded_test) > 0.5).astype(\"int32\")"
   ]
  },
  {
   "cell_type": "code",
   "execution_count": null,
   "metadata": {},
   "outputs": [
    {
     "name": "stdout",
     "output_type": "stream",
     "text": [
      "Classification Report\n",
      "              precision    recall  f1-score   support\n",
      "\n",
      "           0       0.65      0.64      0.64      5044\n",
      "           1       0.64      0.64      0.64      4956\n",
      "\n",
      "    accuracy                           0.64     10000\n",
      "   macro avg       0.64      0.64      0.64     10000\n",
      "weighted avg       0.64      0.64      0.64     10000\n",
      "\n",
      "Accuracy : 0.6421\n"
     ]
    },
    {
     "data": {
      "text/plain": [
       "0.6421"
      ]
     },
     "metadata": {},
     "output_type": "display_data"
    }
   ],
   "source": [
    "c_report(y_test, preds_1_lstm_64)"
   ]
  },
  {
   "cell_type": "code",
   "execution_count": null,
   "metadata": {},
   "outputs": [
    {
     "data": {
      "image/png": "[encoded data removed]",
      "text/plain": [
       "<Figure size 640x480 with 1 Axes>"
      ]
     },
     "metadata": {},
     "output_type": "display_data"
    }
   ],
   "source": [
    "plot_confusion_matrix(y_test, preds_1_lstm_64)"
   ]
  },
  {
   "attachments": {},
   "cell_type": "markdown",
   "metadata": {},
   "source": [
    "4. Developing Deep neural networks:\n",
    "\n",
    "    c. 2-layer LSTM model\n"
   ]
  },
  {
   "cell_type": "code",
   "execution_count": null,
   "metadata": {},
   "outputs": [
    {
     "name": "stdout",
     "output_type": "stream",
     "text": [
      "Model: \"SimpleRNNModel256\"\n",
      "_________________________________________________________________\n",
      " Layer (type)                Output Shape              Param #   \n",
      "=================================================================\n",
      " embedding_10 (Embedding)    (None, 64, 256)           35600128  \n",
      "                                                                 \n",
      " simple_rnn_10 (SimpleRNN)   (None, 256)               131328    \n",
      "                                                                 \n",
      " dense_14 (Dense)            (None, 256)               65792     \n",
      "                                                                 \n",
      " dropout_4 (Dropout)         (None, 256)               0         \n",
      "                                                                 \n",
      " dense_15 (Dense)            (None, 1)                 257       \n",
      "                                                                 \n",
      "=================================================================\n",
      "Total params: 35,797,505\n",
      "Trainable params: 35,797,505\n",
      "Non-trainable params: 0\n",
      "_________________________________________________________________\n",
      "None\n"
     ]
    }
   ],
   "source": [
    "# define the model\n",
    "DoubleLSTMLayer64 = Sequential(name=\"DoubleLSTMLayer64\")\n",
    "DoubleLSTMLayer64.add(Embedding(vocab_size, 256, input_length=max_length))\n",
    "DoubleLSTMLayer64.add(LSTM(64, return_sequences=True))\n",
    "DoubleLSTMLayer64.add(LSTM(32, return_sequences=True))\n",
    "DoubleLSTMLayer64.add(Dense(32, activation='relu'))\n",
    "DoubleLSTMLayer64.add(keras.layers.Dropout(0.5))\n",
    "DoubleLSTMLayer64.add(Dense(1, activation='relu'))\n",
    "\n",
    "\n",
    "opt = keras.optimizers.Adam(learning_rate=1e-5)\n",
    "\n",
    "# compile the model\n",
    "DoubleLSTMLayer64.compile(optimizer=opt, loss='binary_crossentropy', metrics=['accuracy'])\n",
    "\n",
    "# summarize the model\n",
    "print(DoubleLSTMLayer64.summary())"
   ]
  },
  {
   "cell_type": "code",
   "execution_count": null,
   "metadata": {},
   "outputs": [
    {
     "name": "stdout",
     "output_type": "stream",
     "text": [
      "Epoch 1/100\n",
      "1125/1125 [==============================] - 514s 456ms/step - loss: 1.8721 - accuracy: 0.5036 - val_loss: 0.7164 - val_accuracy: 0.5128\n",
      "Epoch 2/100\n",
      "1125/1125 [==============================] - 451s 401ms/step - loss: 0.9338 - accuracy: 0.5159 - val_loss: 0.7018 - val_accuracy: 0.5310\n",
      "Epoch 3/100\n",
      "1125/1125 [==============================] - 475s 422ms/step - loss: 0.8536 - accuracy: 0.5385 - val_loss: 0.6928 - val_accuracy: 0.5445\n",
      "Epoch 4/100\n",
      "1125/1125 [==============================] - ETA: 0s - loss: 0.7736 - accuracy: 0.5683"
     ]
    }
   ],
   "source": [
    "early_stop = EarlyStopping(monitor='val_loss', mode='min', verbose=1, patience=10)\n",
    "\n",
    "# fit the model\n",
    "history = DoubleLSTMLayer64.fit(x=padded_train,\n",
    "         y=y_train,\n",
    "         epochs=100,\n",
    "         validation_data=(padded_val, y_val), verbose=1,\n",
    "         callbacks=[early_stop]\n",
    "         )\n",
    "plot_training_graph(history)"
   ]
  },
  {
   "cell_type": "code",
   "execution_count": null,
   "metadata": {},
   "outputs": [
    {
     "name": "stdout",
     "output_type": "stream",
     "text": [
      "313/313 [==============================] - 3s 10ms/step\n"
     ]
    }
   ],
   "source": [
    "preds_2_lstm_64 = (DoubleLSTMLayer64.predict(padded_test) > 0.5).astype(\"int32\")"
   ]
  },
  {
   "cell_type": "code",
   "execution_count": null,
   "metadata": {},
   "outputs": [
    {
     "name": "stdout",
     "output_type": "stream",
     "text": [
      "Classification Report\n",
      "              precision    recall  f1-score   support\n",
      "\n",
      "           0       0.65      0.64      0.64      5044\n",
      "           1       0.64      0.64      0.64      4956\n",
      "\n",
      "    accuracy                           0.64     10000\n",
      "   macro avg       0.64      0.64      0.64     10000\n",
      "weighted avg       0.64      0.64      0.64     10000\n",
      "\n",
      "Accuracy : 0.6421\n"
     ]
    },
    {
     "data": {
      "text/plain": [
       "0.6421"
      ]
     },
     "metadata": {},
     "output_type": "display_data"
    }
   ],
   "source": [
    "c_report(y_test, preds_2_lstm_64)"
   ]
  },
  {
   "cell_type": "code",
   "execution_count": null,
   "metadata": {},
   "outputs": [
    {
     "data": {
      "image/png": "[encoded data removed]",
      "text/plain": [
       "<Figure size 640x480 with 1 Axes>"
      ]
     },
     "metadata": {},
     "output_type": "display_data"
    }
   ],
   "source": [
    "plot_confusion_matrix(y_test, preds_2_lstm_64)"
   ]
  },
  {
   "attachments": {},
   "cell_type": "markdown",
   "metadata": {},
   "source": [
    "4. Developing Deep neural networks:\n",
    "\n",
    "    d. 1-layer Bi-LSTM model\n"
   ]
  },
  {
   "cell_type": "code",
   "execution_count": null,
   "metadata": {},
   "outputs": [
    {
     "name": "stdout",
     "output_type": "stream",
     "text": [
      "Model: \"SimpleRNNModel256\"\n",
      "_________________________________________________________________\n",
      " Layer (type)                Output Shape              Param #   \n",
      "=================================================================\n",
      " embedding_10 (Embedding)    (None, 64, 256)           35600128  \n",
      "                                                                 \n",
      " simple_rnn_10 (SimpleRNN)   (None, 256)               131328    \n",
      "                                                                 \n",
      " dense_14 (Dense)            (None, 256)               65792     \n",
      "                                                                 \n",
      " dropout_4 (Dropout)         (None, 256)               0         \n",
      "                                                                 \n",
      " dense_15 (Dense)            (None, 1)                 257       \n",
      "                                                                 \n",
      "=================================================================\n",
      "Total params: 35,797,505\n",
      "Trainable params: 35,797,505\n",
      "Non-trainable params: 0\n",
      "_________________________________________________________________\n",
      "None\n"
     ]
    }
   ],
   "source": [
    "# define the model\n",
    "SingleBiLSTMModel = Sequential(name=\"SingleBiLSTMModel\")\n",
    "SingleBiLSTMModel.add(Embedding(vocab_size, 256, input_length=max_length))\n",
    "SingleBiLSTMModel.add(LSTM(64, return_sequences=True))\n",
    "SingleBiLSTMModel.add(LSTM(32, return_sequences=True))\n",
    "SingleBiLSTMModel.add(Dense(32, activation='relu'))\n",
    "SingleBiLSTMModel.add(keras.layers.Dropout(0.5))\n",
    "SingleBiLSTMModel.add(Dense(1, activation='relu'))\n",
    "\n",
    "\n",
    "opt = keras.optimizers.Adam(learning_rate=1e-5)\n",
    "\n",
    "# compile the model\n",
    "SingleBiLSTMModel.compile(optimizer=opt, loss='binary_crossentropy', metrics=['accuracy'])\n",
    "\n",
    "# summarize the model\n",
    "print(SingleBiLSTMModel.summary())"
   ]
  },
  {
   "cell_type": "code",
   "execution_count": null,
   "metadata": {},
   "outputs": [
    {
     "name": "stdout",
     "output_type": "stream",
     "text": [
      "Epoch 1/100\n",
      "1125/1125 [==============================] - 514s 456ms/step - loss: 1.8721 - accuracy: 0.5036 - val_loss: 0.7164 - val_accuracy: 0.5128\n",
      "Epoch 2/100\n",
      "1125/1125 [==============================] - 451s 401ms/step - loss: 0.9338 - accuracy: 0.5159 - val_loss: 0.7018 - val_accuracy: 0.5310\n",
      "Epoch 3/100\n",
      "1125/1125 [==============================] - 475s 422ms/step - loss: 0.8536 - accuracy: 0.5385 - val_loss: 0.6928 - val_accuracy: 0.5445\n",
      "Epoch 4/100\n",
      "1125/1125 [==============================] - ETA: 0s - loss: 0.7736 - accuracy: 0.5683"
     ]
    }
   ],
   "source": [
    "early_stop = EarlyStopping(monitor='val_loss', mode='min', verbose=1, patience=10)\n",
    "\n",
    "# fit the model\n",
    "history = DoubleLSTMLayer64.fit(x=padded_train,\n",
    "         y=y_train,\n",
    "         epochs=100,\n",
    "         validation_data=(padded_val, y_val), verbose=1,\n",
    "         callbacks=[early_stop]\n",
    "         )\n",
    "plot_training_graph(history)"
   ]
  },
  {
   "cell_type": "code",
   "execution_count": null,
   "metadata": {},
   "outputs": [
    {
     "name": "stdout",
     "output_type": "stream",
     "text": [
      "313/313 [==============================] - 3s 10ms/step\n"
     ]
    }
   ],
   "source": [
    "preds_2_lstm_64 = (DoubleLSTMLayer64.predict(padded_test) > 0.5).astype(\"int32\")"
   ]
  },
  {
   "cell_type": "code",
   "execution_count": null,
   "metadata": {},
   "outputs": [
    {
     "name": "stdout",
     "output_type": "stream",
     "text": [
      "Classification Report\n",
      "              precision    recall  f1-score   support\n",
      "\n",
      "           0       0.65      0.64      0.64      5044\n",
      "           1       0.64      0.64      0.64      4956\n",
      "\n",
      "    accuracy                           0.64     10000\n",
      "   macro avg       0.64      0.64      0.64     10000\n",
      "weighted avg       0.64      0.64      0.64     10000\n",
      "\n",
      "Accuracy : 0.6421\n"
     ]
    },
    {
     "data": {
      "text/plain": [
       "0.6421"
      ]
     },
     "metadata": {},
     "output_type": "display_data"
    }
   ],
   "source": [
    "c_report(y_test, preds_2_lstm_64)"
   ]
  },
  {
   "cell_type": "code",
   "execution_count": null,
   "metadata": {},
   "outputs": [
    {
     "data": {
      "image/png": "[encoded data removed]",
      "text/plain": [
       "<Figure size 640x480 with 1 Axes>"
      ]
     },
     "metadata": {},
     "output_type": "display_data"
    }
   ],
   "source": [
    "plot_confusion_matrix(y_test, preds_2_lstm_64)"
   ]
  }
 ],
 "metadata": {
  "kernelspec": {
   "display_name": "Python 3",
   "language": "python",
   "name": "python3"
  },
  "language_info": {
   "codemirror_mode": {
    "name": "ipython",
    "version": 3
   },
   "file_extension": ".py",
   "mimetype": "text/x-python",
   "name": "python",
   "nbconvert_exporter": "python",
   "pygments_lexer": "ipython3",
   "version": "3.10.7"
  },
  "orig_nbformat": 4,
  "vscode": {
   "interpreter": {
    "hash": "c4ae7141c631147330982ab03a122191846cf83f5ea8efac7ef9984176873ce7"
   }
  }
 },
 "nbformat": 4,
 "nbformat_minor": 2
}
